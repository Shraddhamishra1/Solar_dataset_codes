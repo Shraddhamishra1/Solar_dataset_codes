{
 "cells": [
  {
   "cell_type": "code",
   "execution_count": 1,
   "metadata": {},
   "outputs": [],
   "source": [
    "import matplotlib.pyplot as plt\n",
    "import pandas as pd\n",
    "import numpy as np\n",
    "import datetime\n",
    "from scipy.stats import pearsonr"
   ]
  },
  {
   "cell_type": "code",
   "execution_count": 2,
   "metadata": {},
   "outputs": [
    {
     "name": "stdout",
     "output_type": "stream",
     "text": [
      "                   cdt  zipcode  normalize15  received_energy_kwh  capacity\n",
      "0  2017-01-01 07:30:00    75019       0.0006                0.000       NaN\n",
      "1  2017-01-01 07:30:00    75075       0.0126                1.054     15.20\n",
      "2  2017-01-01 07:30:00    75093       0.0251                0.291     10.00\n",
      "3  2017-01-01 07:30:00    76060       0.0047                0.000       NaN\n",
      "4  2017-01-01 07:30:00    76063       0.0027                0.777     37.96\n"
     ]
    }
   ],
   "source": [
    "df = pd.read_csv('/home/shraddha/Downloads/Data04022020/data04022020.txt', sep='\\t',\n",
    "                 names=('cdt','zipcode','normalize15','received_energy_kwh','capacity'),low_memory=False)\n",
    "df = pd.DataFrame(df)\n",
    "\n",
    "# df['cdt']= df['cdt'].apply(lambda x : datetime.datetime.strptime(x,'YYYY-MM-DD HH:MM:SS'))\n",
    "print(df.head())"
   ]
  },
  {
   "cell_type": "code",
   "execution_count": 3,
   "metadata": {},
   "outputs": [
    {
     "name": "stdout",
     "output_type": "stream",
     "text": [
      "                    cdt  zipcode  normalize15  received_energy_kwh  capacity\n",
      "1   2017-01-01 07:30:00    75075       0.0126                1.054     15.20\n",
      "2   2017-01-01 07:30:00    75093       0.0251                0.291     10.00\n",
      "4   2017-01-01 07:30:00    76063       0.0027                0.777     37.96\n",
      "5   2017-01-01 07:30:00    76087       0.0033                0.000      6.92\n",
      "6   2017-01-01 07:30:00    78664       0.0906                1.774     12.31\n",
      "9   2017-01-01 07:45:00    75025       0.0018                1.703     21.40\n",
      "10  2017-01-01 07:45:00    75075       0.0088                1.064     15.20\n",
      "11  2017-01-01 07:45:00    75093       0.0174                0.296     10.00\n",
      "13  2017-01-01 07:45:00    76063       0.0169                0.786     37.96\n",
      "14  2017-01-01 07:45:00    76087       0.0041                0.000      6.92\n"
     ]
    }
   ],
   "source": [
    "df = df.dropna()\n",
    "# df = df[df['zipcode']==75075]\n",
    "print(df.head(10))"
   ]
  },
  {
   "cell_type": "code",
   "execution_count": 4,
   "metadata": {
    "scrolled": true
   },
   "outputs": [
    {
     "data": {
      "text/plain": [
       "cdt                    326329\n",
       "normalize15            326329\n",
       "zipcode                326329\n",
       "received_energy_kwh    326329\n",
       "capacity               326329\n",
       "dtype: int64"
      ]
     },
     "execution_count": 4,
     "metadata": {},
     "output_type": "execute_result"
    }
   ],
   "source": [
    "df[['cdt','normalize15','zipcode' , 'received_energy_kwh','capacity']].notna().sum()"
   ]
  },
  {
   "cell_type": "code",
   "execution_count": 5,
   "metadata": {},
   "outputs": [
    {
     "name": "stdout",
     "output_type": "stream",
     "text": [
      "<class 'pandas.core.frame.DataFrame'>\n",
      "Int64Index: 326329 entries, 1 to 659172\n",
      "Data columns (total 5 columns):\n",
      "cdt                    326329 non-null object\n",
      "zipcode                326329 non-null int64\n",
      "normalize15            326329 non-null float64\n",
      "received_energy_kwh    326329 non-null float64\n",
      "capacity               326329 non-null float64\n",
      "dtypes: float64(3), int64(1), object(1)\n",
      "memory usage: 14.9+ MB\n"
     ]
    }
   ],
   "source": [
    "df.info()"
   ]
  },
  {
   "cell_type": "code",
   "execution_count": 6,
   "metadata": {
    "scrolled": true
   },
   "outputs": [
    {
     "data": {
      "text/plain": [
       "76063    36752\n",
       "76087    36713\n",
       "75025    36701\n",
       "78660    36687\n",
       "78681    36660\n",
       "78664    36598\n",
       "75075    36568\n",
       "75093    36541\n",
       "78717    33109\n",
       "Name: zipcode, dtype: int64"
      ]
     },
     "execution_count": 6,
     "metadata": {},
     "output_type": "execute_result"
    }
   ],
   "source": [
    "df['zipcode'].value_counts(())"
   ]
  },
  {
   "cell_type": "code",
   "execution_count": 7,
   "metadata": {},
   "outputs": [
    {
     "data": {
      "text/plain": [
       "(326329, 5)"
      ]
     },
     "execution_count": 7,
     "metadata": {},
     "output_type": "execute_result"
    }
   ],
   "source": [
    "df.shape"
   ]
  },
  {
   "cell_type": "code",
   "execution_count": 8,
   "metadata": {
    "scrolled": true
   },
   "outputs": [],
   "source": [
    "df = df.drop(df.index[0])"
   ]
  },
  {
   "cell_type": "code",
   "execution_count": 9,
   "metadata": {},
   "outputs": [
    {
     "name": "stdout",
     "output_type": "stream",
     "text": [
      "                        cdt  zipcode  normalize15  received_energy_kwh  \\\n",
      "45182   2017-03-01 07:00:00    75025       0.0014                5.984   \n",
      "45183   2017-03-01 07:00:00    75075       0.0021                3.082   \n",
      "45184   2017-03-01 07:00:00    75093       0.0237                0.686   \n",
      "45186   2017-03-01 07:00:00    76063       0.0026                4.207   \n",
      "45187   2017-03-01 07:00:00    76087       0.1248                0.000   \n",
      "...                     ...      ...          ...                  ...   \n",
      "389865  2018-03-31 19:45:00    76087       0.0078                0.000   \n",
      "389871  2018-03-31 19:45:00    78660       0.0100                0.279   \n",
      "389872  2018-03-31 19:45:00    78664       0.0096                0.252   \n",
      "389873  2018-03-31 19:45:00    78681       0.0078                0.199   \n",
      "389874  2018-03-31 19:45:00    78717       0.0084                0.347   \n",
      "\n",
      "        capacity  \n",
      "45182      21.40  \n",
      "45183      15.20  \n",
      "45184      10.00  \n",
      "45186      37.96  \n",
      "45187       6.92  \n",
      "...          ...  \n",
      "389865      6.92  \n",
      "389871     34.80  \n",
      "389872     17.60  \n",
      "389873     15.25  \n",
      "389874     10.00  \n",
      "\n",
      "[25642 rows x 5 columns]\n"
     ]
    }
   ],
   "source": [
    "# df = df[(df['cdt'] >= '2017-03-01 00:00') & (df['cdt']<= '2017-04-30 23:45') | (df['cdt']>= '2018-03-01 00:00') & \n",
    "#    (df['cdt'] <= '2018-04-30 23:45')]\n",
    "\n",
    "df = df[(df['cdt'] >= '2017-03-01 00:00') & (df['cdt']<= '2017-03-31 23:45') | (df['cdt']>= '2018-03-01 00:00') & \n",
    "   (df['cdt'] <= '2018-03-31 23:45')]\n",
    "\n",
    "\n",
    "\n",
    "df  = pd.DataFrame(df)\n",
    "print(df)\n"
   ]
  },
  {
   "cell_type": "code",
   "execution_count": 10,
   "metadata": {},
   "outputs": [],
   "source": [
    "from sklearn.model_selection import train_test_split"
   ]
  },
  {
   "cell_type": "code",
   "execution_count": 11,
   "metadata": {},
   "outputs": [],
   "source": [
    "from sklearn.linear_model import LinearRegression"
   ]
  },
  {
   "cell_type": "code",
   "execution_count": 12,
   "metadata": {
    "scrolled": false
   },
   "outputs": [
    {
     "name": "stdout",
     "output_type": "stream",
     "text": [
      "       normalize15  zipcode  capacity\n",
      "18969       0.3981  76087.0      6.92\n",
      "25236       0.0392  78717.0     10.00\n",
      "9140        0.1392  78664.0     12.31\n",
      "2104        0.6504  76063.0     37.96\n",
      "16919       0.0027  78660.0     34.80\n",
      "...            ...      ...       ...\n",
      "13123       0.0203  78664.0     17.60\n",
      "19648       0.3537  75093.0     17.20\n",
      "9845        0.7638  75025.0     21.40\n",
      "10799       0.1150  75075.0     15.20\n",
      "2732        0.9517  75075.0     15.20\n",
      "\n",
      "[7692 rows x 3 columns]        normalize15  zipcode  capacity\n",
      "24975       0.8218  78717.0     10.00\n",
      "17113       0.9379  75075.0     15.20\n",
      "10778       0.4183  78681.0      9.50\n",
      "4138        0.0428  78664.0     12.31\n",
      "13507       0.0585  76063.0     60.16\n",
      "...            ...      ...       ...\n",
      "19954       0.0454  75093.0     17.20\n",
      "7534        0.0060  75093.0     10.00\n",
      "18727       0.3517  78660.0     34.80\n",
      "24670       0.3306  75025.0     21.40\n",
      "14361       0.0374  76063.0     60.16\n",
      "\n",
      "[17950 rows x 3 columns] 376543      5.232\n",
      "389064      0.374\n",
      "65518       4.139\n",
      "49917      55.781\n",
      "372449      3.691\n",
      "           ...   \n",
      "364861      0.511\n",
      "377902     31.042\n",
      "66928      90.190\n",
      "68831       6.515\n",
      "51331     149.110\n",
      "Name: received_energy_kwh, Length: 7692, dtype: float64 388542     31.837\n",
      "372835    208.692\n",
      "68789      47.171\n",
      "54489       0.188\n",
      "365627      1.269\n",
      "           ...   \n",
      "378514      1.316\n",
      "62127       0.548\n",
      "376063    131.466\n",
      "387934     24.789\n",
      "367333      0.937\n",
      "Name: received_energy_kwh, Length: 17950, dtype: float64\n"
     ]
    }
   ],
   "source": [
    "X = pd.DataFrame(np.c_[df[['normalize15','zipcode','capacity']]],columns=['normalize15','zipcode','capacity'])\n",
    "y = df['received_energy_kwh']\n",
    "\n",
    "\n",
    "X_train , X_test , y_train , y_test = train_test_split(X,y,test_size = 0.7,random_state = 0)\n",
    "\n",
    "\n",
    "print(X_train , X_test , y_train , y_test)\n",
    "\n"
   ]
  },
  {
   "cell_type": "code",
   "execution_count": 13,
   "metadata": {},
   "outputs": [],
   "source": [
    "from sklearn.ensemble import RandomForestRegressor\n",
    "\n",
    "regressor = RandomForestRegressor(n_estimators=20, random_state=0)\n",
    "regressor.fit(X_train, y_train)\n",
    "y_pred = regressor.predict(X_test)"
   ]
  },
  {
   "cell_type": "code",
   "execution_count": 14,
   "metadata": {},
   "outputs": [
    {
     "name": "stdout",
     "output_type": "stream",
     "text": [
      "Mean Absolute Error: 7.248251731669142\n",
      "Mean Squared Error: 160.20357627179686\n",
      "Root Mean Squared Error: 12.657155141333966\n"
     ]
    }
   ],
   "source": [
    "from sklearn import metrics\n",
    "\n",
    "print('Mean Absolute Error:', metrics.mean_absolute_error(y_test, y_pred))\n",
    "print('Mean Squared Error:', metrics.mean_squared_error(y_test, y_pred))\n",
    "print('Root Mean Squared Error:', np.sqrt(metrics.mean_squared_error(y_test, y_pred)))"
   ]
  },
  {
   "cell_type": "code",
   "execution_count": null,
   "metadata": {},
   "outputs": [],
   "source": []
  }
 ],
 "metadata": {
  "kernelspec": {
   "display_name": "Python 3",
   "language": "python",
   "name": "python3"
  },
  "language_info": {
   "codemirror_mode": {
    "name": "ipython",
    "version": 3
   },
   "file_extension": ".py",
   "mimetype": "text/x-python",
   "name": "python",
   "nbconvert_exporter": "python",
   "pygments_lexer": "ipython3",
   "version": "3.6.9"
  }
 },
 "nbformat": 4,
 "nbformat_minor": 2
}
