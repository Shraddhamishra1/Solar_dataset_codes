{
 "cells": [
  {
   "cell_type": "code",
   "execution_count": 143,
   "metadata": {},
   "outputs": [],
   "source": [
    "import matplotlib.pyplot as plt\n",
    "import pandas as pd\n",
    "import numpy as np\n",
    "import datetime\n",
    "from scipy.stats import pearsonr"
   ]
  },
  {
   "cell_type": "code",
   "execution_count": 145,
   "metadata": {},
   "outputs": [
    {
     "name": "stdout",
     "output_type": "stream",
     "text": [
      "                   cdt  zipcode  normalize15  received_energy_kwh  capacity\n",
      "0  2017-01-01 07:30:00    75019       0.0006                0.000       NaN\n",
      "1  2017-01-01 07:30:00    75075       0.0126                1.054     15.20\n",
      "2  2017-01-01 07:30:00    75093       0.0251                0.291     10.00\n",
      "3  2017-01-01 07:30:00    76060       0.0047                0.000       NaN\n",
      "4  2017-01-01 07:30:00    76063       0.0027                0.777     37.96\n"
     ]
    }
   ],
   "source": [
    "df = pd.read_csv('/home/shraddha/Downloads/Data04022020/data04022020.txt', sep='\\t',\n",
    "                 names=('cdt','zipcode','normalize15','received_energy_kwh','capacity'),low_memory=False)\n",
    "df = pd.DataFrame(df)\n",
    "\n",
    "# df['cdt']= df['cdt'].apply(lambda x : datetime.datetime.strptime(x,'YYYY-MM-DD HH:MM:SS'))\n",
    "print(df.head())"
   ]
  },
  {
   "cell_type": "code",
   "execution_count": 147,
   "metadata": {},
   "outputs": [
    {
     "name": "stdout",
     "output_type": "stream",
     "text": [
      "                     cdt  zipcode  normalize15  received_energy_kwh  capacity\n",
      "1    2017-01-01 07:30:00    75075       0.0126                1.054      15.2\n",
      "10   2017-01-01 07:45:00    75075       0.0088                1.064      15.2\n",
      "27   2017-01-01 08:00:00    75075       0.0087                1.082      15.2\n",
      "45   2017-01-01 08:15:00    75075       0.0215                1.146      15.2\n",
      "63   2017-01-01 08:30:00    75075       0.0279                1.249      15.2\n",
      "81   2017-01-01 08:45:00    75075       0.0377                1.392      15.2\n",
      "99   2017-01-01 09:00:00    75075       0.0699                2.027      15.2\n",
      "117  2017-01-01 09:15:00    75075       0.0743                2.179      15.2\n",
      "135  2017-01-01 09:30:00    75075       0.0461                0.948      15.2\n",
      "153  2017-01-01 09:45:00    75075       0.0645                0.916      15.2\n"
     ]
    }
   ],
   "source": [
    "df = df.dropna()\n",
    "# df = df[df['zipcode']==75075]\n",
    "print(df.head(10))"
   ]
  },
  {
   "cell_type": "code",
   "execution_count": 148,
   "metadata": {
    "scrolled": true
   },
   "outputs": [
    {
     "data": {
      "text/plain": [
       "cdt                    36568\n",
       "normalize15            36568\n",
       "zipcode                36568\n",
       "received_energy_kwh    36568\n",
       "capacity               36568\n",
       "dtype: int64"
      ]
     },
     "execution_count": 148,
     "metadata": {},
     "output_type": "execute_result"
    }
   ],
   "source": [
    "df[['cdt','normalize15','zipcode' , 'received_energy_kwh','capacity']].notna().sum()"
   ]
  },
  {
   "cell_type": "code",
   "execution_count": 149,
   "metadata": {},
   "outputs": [
    {
     "name": "stdout",
     "output_type": "stream",
     "text": [
      "<class 'pandas.core.frame.DataFrame'>\n",
      "Int64Index: 36568 entries, 1 to 659159\n",
      "Data columns (total 5 columns):\n",
      "cdt                    36568 non-null object\n",
      "zipcode                36568 non-null int64\n",
      "normalize15            36568 non-null float64\n",
      "received_energy_kwh    36568 non-null float64\n",
      "capacity               36568 non-null float64\n",
      "dtypes: float64(3), int64(1), object(1)\n",
      "memory usage: 1.7+ MB\n"
     ]
    }
   ],
   "source": [
    "df.info()"
   ]
  },
  {
   "cell_type": "code",
   "execution_count": 150,
   "metadata": {
    "scrolled": true
   },
   "outputs": [
    {
     "data": {
      "text/plain": [
       "75075    36568\n",
       "Name: zipcode, dtype: int64"
      ]
     },
     "execution_count": 150,
     "metadata": {},
     "output_type": "execute_result"
    }
   ],
   "source": [
    "df['zipcode'].value_counts(())"
   ]
  },
  {
   "cell_type": "code",
   "execution_count": 151,
   "metadata": {},
   "outputs": [
    {
     "data": {
      "text/plain": [
       "(36568, 5)"
      ]
     },
     "execution_count": 151,
     "metadata": {},
     "output_type": "execute_result"
    }
   ],
   "source": [
    "df.shape"
   ]
  },
  {
   "cell_type": "code",
   "execution_count": 152,
   "metadata": {
    "scrolled": true
   },
   "outputs": [],
   "source": [
    "df = df.drop(df.index[0])"
   ]
  },
  {
   "cell_type": "code",
   "execution_count": 153,
   "metadata": {},
   "outputs": [
    {
     "name": "stdout",
     "output_type": "stream",
     "text": [
      "                        cdt  zipcode  normalize15  received_energy_kwh  \\\n",
      "45183   2017-03-01 07:00:00    75075       0.0021                3.082   \n",
      "45201   2017-03-01 07:15:00    75075       0.0147                5.360   \n",
      "45219   2017-03-01 07:30:00    75075       0.0316               11.394   \n",
      "45237   2017-03-01 07:45:00    75075       0.0650               15.308   \n",
      "45255   2017-03-01 08:00:00    75075       0.1528               42.844   \n",
      "...                     ...      ...          ...                  ...   \n",
      "389789  2018-03-31 18:45:00    75075       0.0613               10.178   \n",
      "389807  2018-03-31 19:00:00    75075       0.0511                6.830   \n",
      "389825  2018-03-31 19:15:00    75075       0.0413                2.082   \n",
      "389843  2018-03-31 19:30:00    75075       0.0233                0.087   \n",
      "389861  2018-03-31 19:45:00    75075       0.0075                0.000   \n",
      "\n",
      "        capacity  \n",
      "45183      15.20  \n",
      "45201      15.20  \n",
      "45219      15.20  \n",
      "45237      15.20  \n",
      "45255      15.20  \n",
      "...          ...  \n",
      "389789     20.95  \n",
      "389807     20.95  \n",
      "389825     20.95  \n",
      "389843     20.95  \n",
      "389861     20.95  \n",
      "\n",
      "[2960 rows x 5 columns]\n"
     ]
    }
   ],
   "source": [
    "# df = df[(df['cdt'] >= '2017-03-01 00:00') & (df['cdt']<= '2017-04-30 23:45') | (df['cdt']>= '2018-03-01 00:00') & \n",
    "#    (df['cdt'] <= '2018-04-30 23:45')]\n",
    "\n",
    "df = df[(df['cdt'] >= '2017-03-01 00:00') & (df['cdt']<= '2017-03-31 23:45') | (df['cdt']>= '2018-03-01 00:00') & \n",
    "   (df['cdt'] <= '2018-03-31 23:45')]\n",
    "\n",
    "\n",
    "\n",
    "df  = pd.DataFrame(df)\n",
    "print(df)\n"
   ]
  },
  {
   "cell_type": "code",
   "execution_count": 154,
   "metadata": {},
   "outputs": [],
   "source": [
    "from sklearn.model_selection import train_test_split"
   ]
  },
  {
   "cell_type": "code",
   "execution_count": 155,
   "metadata": {},
   "outputs": [],
   "source": [
    "from sklearn.linear_model import LinearRegression"
   ]
  },
  {
   "cell_type": "code",
   "execution_count": 156,
   "metadata": {
    "scrolled": false
   },
   "outputs": [
    {
     "name": "stdout",
     "output_type": "stream",
     "text": [
      "      normalize15  zipcode  capacity\n",
      "2603       0.4975  75075.0     20.95\n",
      "1351       0.9531  75075.0     15.20\n",
      "1726       0.9072  75075.0     15.20\n",
      "359        0.5325  75075.0     15.20\n",
      "168        0.1020  75075.0     15.20\n",
      "...           ...      ...       ...\n",
      "2104       0.8610  75075.0     15.20\n",
      "501        0.0878  75075.0     15.20\n",
      "2686       0.5199  75075.0     20.95\n",
      "348        0.9431  75075.0     15.20\n",
      "382        0.2157  75075.0     15.20\n",
      "\n",
      "[888 rows x 3 columns]       normalize15  zipcode  capacity\n",
      "2063       0.9534  75075.0     15.20\n",
      "2866       0.2555  75075.0     20.95\n",
      "180        0.0235  75075.0     15.20\n",
      "2677       0.1570  75075.0     20.95\n",
      "2534       0.1337  75075.0     20.95\n",
      "...           ...      ...       ...\n",
      "2783       0.1892  75075.0     20.95\n",
      "1258       0.8309  75075.0     15.20\n",
      "1050       0.6860  75075.0     15.20\n",
      "1614       0.0874  75075.0     15.20\n",
      "1931       0.6959  75075.0     15.20\n",
      "\n",
      "[2072 rows x 3 columns] 383426     74.411\n",
      "69509     162.312\n",
      "367634    169.468\n",
      "51655      64.878\n",
      "48201       2.844\n",
      "           ...   \n",
      "374437    150.947\n",
      "54209       2.542\n",
      "384907    108.555\n",
      "51457     154.089\n",
      "52069      22.996\n",
      "Name: received_energy_kwh, Length: 888, dtype: float64 373699    212.713\n",
      "388187     38.970\n",
      "48417       0.808\n",
      "384745     11.251\n",
      "382185     11.053\n",
      "           ...   \n",
      "386693     23.802\n",
      "67845     147.249\n",
      "64070      90.064\n",
      "365624     11.539\n",
      "371323    122.983\n",
      "Name: received_energy_kwh, Length: 2072, dtype: float64\n"
     ]
    }
   ],
   "source": [
    "X = pd.DataFrame(np.c_[df[['normalize15','zipcode','capacity']]],columns=['normalize15','zipcode','capacity'])\n",
    "y = df['received_energy_kwh']\n",
    "\n",
    "\n",
    "X_train , X_test , y_train , y_test = train_test_split(X,y,test_size = 0.7,random_state = 9)\n",
    "\n",
    "\n",
    "print(X_train , X_test , y_train , y_test)\n",
    "\n"
   ]
  },
  {
   "cell_type": "code",
   "execution_count": 157,
   "metadata": {},
   "outputs": [
    {
     "name": "stdout",
     "output_type": "stream",
     "text": [
      "#######\n"
     ]
    }
   ],
   "source": [
    "lin_reg_mod = LinearRegression()\n",
    "print('#######')"
   ]
  },
  {
   "cell_type": "code",
   "execution_count": 158,
   "metadata": {
    "scrolled": true
   },
   "outputs": [
    {
     "name": "stdout",
     "output_type": "stream",
     "text": [
      "%%%%%\n"
     ]
    }
   ],
   "source": [
    "lin_reg_mod.fit(X_train, y_train)\n",
    "print('%%%%%')"
   ]
  },
  {
   "cell_type": "code",
   "execution_count": 159,
   "metadata": {},
   "outputs": [
    {
     "name": "stdout",
     "output_type": "stream",
     "text": [
      "[168.43595675  45.56817424  -8.34671859 ... 117.60071921   3.80126824\n",
      " 119.48280168]\n"
     ]
    }
   ],
   "source": [
    "pred = lin_reg_mod.predict(X_test)\n",
    "print(pred)"
   ]
  },
  {
   "cell_type": "code",
   "execution_count": 160,
   "metadata": {},
   "outputs": [],
   "source": [
    "from sklearn.metrics import mean_squared_error, r2_score\n",
    "test_set_rmse = (np.sqrt(mean_squared_error(y_test, pred)))\n",
    "test_set_r2 = r2_score(y_test, pred)"
   ]
  },
  {
   "cell_type": "code",
   "execution_count": 161,
   "metadata": {},
   "outputs": [
    {
     "name": "stdout",
     "output_type": "stream",
     "text": [
      "16.640843085350443\n",
      "0.9359334667918111\n"
     ]
    }
   ],
   "source": [
    "print(test_set_rmse)\n",
    "print(test_set_r2)"
   ]
  },
  {
   "cell_type": "code",
   "execution_count": 162,
   "metadata": {},
   "outputs": [
    {
     "data": {
      "text/plain": [
       "0.9640646687835541"
      ]
     },
     "execution_count": 162,
     "metadata": {},
     "output_type": "execute_result"
    }
   ],
   "source": [
    "df['normalize15'].corr(df['received_energy_kwh'])"
   ]
  },
  {
   "cell_type": "code",
   "execution_count": 163,
   "metadata": {},
   "outputs": [
    {
     "name": "stdout",
     "output_type": "stream",
     "text": [
      "0.964064668783554\n"
     ]
    }
   ],
   "source": [
    "# /Pearson's correlation coefficient = covariance(X, Y) / (stdv(X) * stdv(Y))\n",
    "corr, _ = pearsonr(df['normalize15'],df['received_energy_kwh'])\n",
    "print(corr)"
   ]
  }
 ],
 "metadata": {
  "kernelspec": {
   "display_name": "Python 3",
   "language": "python",
   "name": "python3"
  },
  "language_info": {
   "codemirror_mode": {
    "name": "ipython",
    "version": 3
   },
   "file_extension": ".py",
   "mimetype": "text/x-python",
   "name": "python",
   "nbconvert_exporter": "python",
   "pygments_lexer": "ipython3",
   "version": "3.6.9"
  }
 },
 "nbformat": 4,
 "nbformat_minor": 2
}
