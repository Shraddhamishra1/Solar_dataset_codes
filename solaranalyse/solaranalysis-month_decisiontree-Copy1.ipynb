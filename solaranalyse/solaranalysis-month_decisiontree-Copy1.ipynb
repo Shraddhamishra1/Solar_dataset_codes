{
 "cells": [
  {
   "cell_type": "code",
   "execution_count": 3,
   "metadata": {},
   "outputs": [],
   "source": [
    "import matplotlib.pyplot as plt\n",
    "import pandas as pd\n",
    "import numpy as np\n",
    "from sklearn.tree import DecisionTreeClassifier"
   ]
  },
  {
   "cell_type": "code",
   "execution_count": null,
   "metadata": {
    "scrolled": true
   },
   "outputs": [],
   "source": [
    "df = pd.read_table('/home/shraddha/Downloads/output20200129.txt', sep='\\t',\n",
    "                       names=('date_time_cst','date_time_utc','normalize15','zipcode','rdng_dtmgmt','cdt','main_adr_zip_cd_5','received_energy_kwh',\n",
    "                              'delivered_energy_kwh','capacity','isDayLight'))\n",
    "df = pd.DataFrame(df)\n",
    "\n",
    "print(type(df['normalize15']))"
   ]
  },
  {
   "cell_type": "code",
   "execution_count": 1,
   "metadata": {
    "scrolled": false
   },
   "outputs": [
    {
     "ename": "NameError",
     "evalue": "name 'df' is not defined",
     "output_type": "error",
     "traceback": [
      "\u001b[0;31m---------------------------------------------------------------------------\u001b[0m",
      "\u001b[0;31mNameError\u001b[0m                                 Traceback (most recent call last)",
      "\u001b[0;32m<ipython-input-1-8c4bcf898808>\u001b[0m in \u001b[0;36m<module>\u001b[0;34m\u001b[0m\n\u001b[0;32m----> 1\u001b[0;31m df = df[(df['cdt'] >= '2017-03-01 00:00') & (df['cdt']<= '2017-04-30 23:45') | (df['cdt']<= '2018-03-01 00:00') & \n\u001b[0m\u001b[1;32m      2\u001b[0m    (df['cdt'] <= '2018-04-30 23:45')]\n\u001b[1;32m      3\u001b[0m \u001b[0mprint\u001b[0m\u001b[0;34m(\u001b[0m\u001b[0mtype\u001b[0m\u001b[0;34m(\u001b[0m\u001b[0mdf\u001b[0m\u001b[0;34m[\u001b[0m\u001b[0;34m'normalize15'\u001b[0m\u001b[0;34m]\u001b[0m\u001b[0;34m)\u001b[0m\u001b[0;34m)\u001b[0m\u001b[0;34m\u001b[0m\u001b[0;34m\u001b[0m\u001b[0m\n\u001b[1;32m      4\u001b[0m \u001b[0mdf\u001b[0m \u001b[0;34m=\u001b[0m \u001b[0mpd\u001b[0m\u001b[0;34m.\u001b[0m\u001b[0mDataFrame\u001b[0m\u001b[0;34m(\u001b[0m\u001b[0mdf\u001b[0m\u001b[0;34m)\u001b[0m\u001b[0;34m\u001b[0m\u001b[0;34m\u001b[0m\u001b[0m\n\u001b[1;32m      5\u001b[0m \u001b[0mprint\u001b[0m\u001b[0;34m(\u001b[0m\u001b[0mdf\u001b[0m\u001b[0;34m)\u001b[0m\u001b[0;34m\u001b[0m\u001b[0;34m\u001b[0m\u001b[0m\n",
      "\u001b[0;31mNameError\u001b[0m: name 'df' is not defined"
     ]
    }
   ],
   "source": [
    "df = df[(df['cdt'] >= '2017-03-01 00:00') & (df['cdt']<= '2017-04-30 23:45') | (df['cdt']<= '2018-03-01 00:00') & \n",
    "   (df['cdt'] <= '2018-04-30 23:45')]\n",
    "print(type(df['normalize15']))\n",
    "df = pd.DataFrame(df)\n",
    "print(df)"
   ]
  },
  {
   "cell_type": "code",
   "execution_count": 4,
   "metadata": {
    "scrolled": true
   },
   "outputs": [
    {
     "name": "stdout",
     "output_type": "stream",
     "text": [
      "['0.695' '0.695' '3.042' ... '2.191' '2.191' '2.191']\n",
      "        Month normalize15 zipcode\n",
      "48059       3      0.0601   75023\n",
      "48060       3      0.0608   75025\n",
      "48061       3      0.0628   78664\n",
      "48062       3       0.065   75075\n",
      "48063       3       0.065   75093\n",
      "...       ...         ...     ...\n",
      "105713      4      0.3834   78681\n",
      "105714      4      0.3834   78681\n",
      "105715      4      0.3834   78681\n",
      "105716      4      0.3834   78681\n",
      "105717      4      0.3834   78681\n",
      "\n",
      "[57659 rows x 3 columns]\n",
      "The prediction accuracy is:  100.0 %\n"
     ]
    }
   ],
   "source": [
    "# df = pd.DataFrame(df[['cdt', 'normalize15' , 'zipcode' ,'received_energy_kwh', 'isDayLight']])\n",
    "df['cdt'] = pd.to_datetime(df['cdt'], errors='coerce')\n",
    "df['date'] = [d.date() for d in df['cdt']]\n",
    "df['date'] = pd.to_datetime(df['date'], errors='coerce')\n",
    "df['Month'] = df['date'].dt.month\n",
    "df = pd.DataFrame(df[['Month','normalize15','zipcode','received_energy_kwh']])\n",
    "\n",
    "train_features = df.iloc[:80,:-1]\n",
    "test_features = df.iloc[80:,:-1]\n",
    "train_targets = df.iloc[:80,-1]\n",
    "test_targets = df.iloc[80:,-1]\n",
    "\n",
    "tree = DecisionTreeClassifier(criterion = 'entropy').fit(train_features,train_targets)\n",
    "prediction = tree.predict(test_features)\n",
    "print(prediction)\n",
    "print(test_features)\n",
    "print(\"The prediction accuracy is: \",tree.score(test_features,prediction)*100,\"%\")"
   ]
  }
 ],
 "metadata": {
  "kernelspec": {
   "display_name": "Python 3",
   "language": "python",
   "name": "python3"
  },
  "language_info": {
   "codemirror_mode": {
    "name": "ipython",
    "version": 3
   },
   "file_extension": ".py",
   "mimetype": "text/x-python",
   "name": "python",
   "nbconvert_exporter": "python",
   "pygments_lexer": "ipython3",
   "version": "3.6.9"
  }
 },
 "nbformat": 4,
 "nbformat_minor": 2
}
