{
 "cells": [
  {
   "cell_type": "code",
   "execution_count": 132,
   "metadata": {},
   "outputs": [],
   "source": [
    "import matplotlib.pyplot as plt\n",
    "import pandas as pd\n",
    "import numpy as np\n",
    "import datetime\n",
    "from scipy.stats import pearsonr"
   ]
  },
  {
   "cell_type": "code",
   "execution_count": 133,
   "metadata": {},
   "outputs": [
    {
     "name": "stdout",
     "output_type": "stream",
     "text": [
      "                   cdt  zipcode  normalize15  received_energy_kwh\n",
      "0  2017-01-01 07:30:00    75019       0.0006                0.000\n",
      "1  2017-01-01 07:30:00    76063       0.0027                0.777\n",
      "2  2017-01-01 07:30:00    76087       0.0033                0.000\n",
      "3  2017-01-01 07:30:00    76060       0.0047                0.000\n",
      "4  2017-01-01 07:30:00    75075       0.0126                1.054\n",
      "5  2017-01-01 07:30:00    75093       0.0251                0.291\n",
      "6  2017-01-01 07:30:00    78717       0.0281                0.000\n",
      "7  2017-01-01 07:30:00    78664       0.0906                1.774\n",
      "8  2017-01-01 07:45:00    76108       0.0001                0.984\n",
      "9  2017-01-01 07:45:00    76182       0.0004                1.270\n"
     ]
    }
   ],
   "source": [
    "df = pd.read_csv('/home/shraddha/Downloads/output_tar/outpu03022020/output03022020.csv', sep=',',\n",
    "                 names=('cdt','zipcode','normalize15','received_energy_kwh'),low_memory=False)\n",
    "df = pd.DataFrame(df)\n",
    "\n",
    "# df['cdt']= df['cdt'].apply(lambda x : datetime.datetime.strptime(x,'YYYY-MM-DD HH:MM:SS'))\n",
    "print(df.head(10))"
   ]
  },
  {
   "cell_type": "code",
   "execution_count": 134,
   "metadata": {},
   "outputs": [
    {
     "name": "stdout",
     "output_type": "stream",
     "text": [
      "                     cdt  zipcode  normalize15  received_energy_kwh\n",
      "10   2017-01-01 07:45:00    75019       0.0008                0.000\n",
      "26   2017-01-01 08:00:00    75019       0.0042                0.000\n",
      "42   2017-01-01 08:15:00    75019       0.0095                0.000\n",
      "66   2017-01-01 08:30:00    75019       0.0267                0.023\n",
      "80   2017-01-01 08:45:00    75019       0.0366                0.066\n",
      "96   2017-01-01 09:00:00    75019       0.0394                0.078\n",
      "117  2017-01-01 09:15:00    75019       0.0560                0.231\n",
      "138  2017-01-01 09:30:00    75019       0.0605                0.623\n",
      "153  2017-01-01 09:45:00    75019       0.0653                0.549\n",
      "173  2017-01-01 10:00:00    75019       0.0703                0.410\n"
     ]
    }
   ],
   "source": [
    "df = df[df['zipcode']==75019]\n",
    "df = pd.DataFrame(df[['cdt','zipcode','normalize15','received_energy_kwh']])\n",
    "print(df[1::].head(10))"
   ]
  },
  {
   "cell_type": "code",
   "execution_count": 135,
   "metadata": {},
   "outputs": [
    {
     "data": {
      "text/plain": [
       "cdt                    0\n",
       "normalize15            0\n",
       "zipcode                0\n",
       "received_energy_kwh    0\n",
       "dtype: int64"
      ]
     },
     "execution_count": 135,
     "metadata": {},
     "output_type": "execute_result"
    }
   ],
   "source": [
    "df[['cdt','normalize15','zipcode' , 'received_energy_kwh']].isna().sum()"
   ]
  },
  {
   "cell_type": "code",
   "execution_count": 136,
   "metadata": {},
   "outputs": [
    {
     "name": "stdout",
     "output_type": "stream",
     "text": [
      "<class 'pandas.core.frame.DataFrame'>\n",
      "Int64Index: 36472 entries, 0 to 659159\n",
      "Data columns (total 4 columns):\n",
      "cdt                    36472 non-null object\n",
      "zipcode                36472 non-null int64\n",
      "normalize15            36472 non-null float64\n",
      "received_energy_kwh    36472 non-null float64\n",
      "dtypes: float64(2), int64(1), object(1)\n",
      "memory usage: 1.4+ MB\n"
     ]
    }
   ],
   "source": [
    "df.info()"
   ]
  },
  {
   "cell_type": "code",
   "execution_count": 137,
   "metadata": {
    "scrolled": true
   },
   "outputs": [
    {
     "data": {
      "text/plain": [
       "(36472, 4)"
      ]
     },
     "execution_count": 137,
     "metadata": {},
     "output_type": "execute_result"
    }
   ],
   "source": [
    "# df['zipcode'].value_counts(())\n",
    "df.shape"
   ]
  },
  {
   "cell_type": "code",
   "execution_count": 138,
   "metadata": {
    "scrolled": true
   },
   "outputs": [],
   "source": [
    "df = df.drop(df.index[0])"
   ]
  },
  {
   "cell_type": "code",
   "execution_count": 139,
   "metadata": {},
   "outputs": [
    {
     "name": "stdout",
     "output_type": "stream",
     "text": [
      "                        cdt  zipcode  normalize15  received_energy_kwh\n",
      "45184   2017-03-01 07:00:00    75019       0.0005                0.004\n",
      "45205   2017-03-01 07:15:00    75019       0.0089                0.004\n",
      "45222   2017-03-01 07:30:00    75019       0.0213                0.056\n",
      "45241   2017-03-01 07:45:00    75019       0.0495                0.695\n",
      "45260   2017-03-01 08:00:00    75019       0.0936                2.617\n",
      "...                     ...      ...          ...                  ...\n",
      "389793  2018-03-31 18:45:00    75019       0.1191                6.445\n",
      "389806  2018-03-31 19:00:00    75019       0.0545                2.379\n",
      "389829  2018-03-31 19:15:00    75019       0.0460                1.040\n",
      "389847  2018-03-31 19:30:00    75019       0.0219                0.295\n",
      "389862  2018-03-31 19:45:00    75019       0.0063                0.280\n",
      "\n",
      "[2953 rows x 4 columns]\n"
     ]
    }
   ],
   "source": [
    "# df = df[(df['cdt'] >= '2017-03-01 00:00') & (df['cdt']<= '2017-04-30 23:45') | (df['cdt']>= '2018-03-01 00:00') & \n",
    "#    (df['cdt'] <= '2018-04-30 23:45')]\n",
    "\n",
    "df = df[(df['cdt'] >= '2017-03-01 00:00') & (df['cdt']<= '2017-03-31 23:45') | (df['cdt']>= '2018-03-01 00:00') & \n",
    "   (df['cdt'] <= '2018-03-31 23:45')]\n",
    "\n",
    "\n",
    "\n",
    "df  = pd.DataFrame(df)\n",
    "print(df)\n"
   ]
  },
  {
   "cell_type": "code",
   "execution_count": 140,
   "metadata": {},
   "outputs": [],
   "source": [
    "from sklearn.model_selection import train_test_split"
   ]
  },
  {
   "cell_type": "code",
   "execution_count": 141,
   "metadata": {},
   "outputs": [],
   "source": [
    "from sklearn.linear_model import LinearRegression"
   ]
  },
  {
   "cell_type": "code",
   "execution_count": 142,
   "metadata": {
    "scrolled": true
   },
   "outputs": [
    {
     "name": "stdout",
     "output_type": "stream",
     "text": [
      "      normalize15  zipcode\n",
      "1726       0.7313  75019.0\n",
      "359        0.4047  75019.0\n",
      "168        0.0733  75019.0\n",
      "2786       0.0774  75019.0\n",
      "1520       0.0525  75019.0\n",
      "...           ...      ...\n",
      "2104       0.7078  75019.0\n",
      "501        0.0362  75019.0\n",
      "2686       0.6193  75019.0\n",
      "348        0.7235  75019.0\n",
      "382        0.1973  75019.0\n",
      "\n",
      "[885 rows x 2 columns]       normalize15  zipcode\n",
      "578        0.5480  75019.0\n",
      "916        0.6928  75019.0\n",
      "1717       0.6155  75019.0\n",
      "617        0.6144  75019.0\n",
      "1663       0.0443  75019.0\n",
      "...           ...      ...\n",
      "1050       0.6570  75019.0\n",
      "1614       0.0004  75019.0\n",
      "1931       0.2890  75019.0\n",
      "2596       0.4394  75019.0\n",
      "1351       0.7496  75019.0\n",
      "\n",
      "[2068 rows x 2 columns] 367740    140.555\n",
      "51659      51.771\n",
      "48205       0.426\n",
      "386874      0.901\n",
      "364010      0.839\n",
      "           ...   \n",
      "374562    134.251\n",
      "54207       0.098\n",
      "385049    101.693\n",
      "51456     101.232\n",
      "52076       8.862\n",
      "Name: received_energy_kwh, Length: 885, dtype: float64 55617     110.081\n",
      "61709      87.023\n",
      "367586     84.416\n",
      "56327      65.881\n",
      "366600      0.541\n",
      "           ...   \n",
      "64131      57.567\n",
      "365709      0.021\n",
      "371449     42.567\n",
      "383409     60.261\n",
      "69579      92.093\n",
      "Name: received_energy_kwh, Length: 2068, dtype: float64\n"
     ]
    }
   ],
   "source": [
    "X = pd.DataFrame(np.c_[df[['normalize15','zipcode']]],columns=['normalize15','zipcode'])\n",
    "y = df['received_energy_kwh']\n",
    "\n",
    "\n",
    "X_train , X_test , y_train , y_test = train_test_split(X,y,test_size = 0.7,random_state = 9)\n",
    "\n",
    "\n",
    "print(X_train , X_test , y_train , y_test)\n",
    "\n"
   ]
  },
  {
   "cell_type": "code",
   "execution_count": 143,
   "metadata": {},
   "outputs": [
    {
     "name": "stdout",
     "output_type": "stream",
     "text": [
      "#######\n"
     ]
    }
   ],
   "source": [
    "lin_reg_mod = LinearRegression()\n",
    "print('#######')"
   ]
  },
  {
   "cell_type": "code",
   "execution_count": 144,
   "metadata": {
    "scrolled": true
   },
   "outputs": [
    {
     "name": "stdout",
     "output_type": "stream",
     "text": [
      "%%%%%\n"
     ]
    }
   ],
   "source": [
    "lin_reg_mod.fit(X_train, y_train)\n",
    "print('%%%%%')"
   ]
  },
  {
   "cell_type": "code",
   "execution_count": 145,
   "metadata": {},
   "outputs": [
    {
     "name": "stdout",
     "output_type": "stream",
     "text": [
      "[ 83.24558359 107.62212281  94.6089565  ...  39.64390086  64.96317917\n",
      " 117.18419068]\n"
     ]
    }
   ],
   "source": [
    "pred = lin_reg_mod.predict(X_test)\n",
    "print(pred)"
   ]
  },
  {
   "cell_type": "code",
   "execution_count": 146,
   "metadata": {},
   "outputs": [],
   "source": [
    "from sklearn.metrics import mean_squared_error, r2_score\n",
    "test_set_rmse = (np.sqrt(mean_squared_error(y_test, pred)))\n",
    "test_set_r2 = r2_score(y_test, pred)"
   ]
  },
  {
   "cell_type": "code",
   "execution_count": 147,
   "metadata": {},
   "outputs": [
    {
     "name": "stdout",
     "output_type": "stream",
     "text": [
      "15.312523668420601\n",
      "0.8863231757679438\n"
     ]
    }
   ],
   "source": [
    "print(test_set_rmse)\n",
    "print(test_set_r2)"
   ]
  },
  {
   "cell_type": "code",
   "execution_count": 148,
   "metadata": {},
   "outputs": [
    {
     "data": {
      "text/plain": [
       "0.9428571440920418"
      ]
     },
     "execution_count": 148,
     "metadata": {},
     "output_type": "execute_result"
    }
   ],
   "source": [
    "df['normalize15'].corr(df['received_energy_kwh'])"
   ]
  },
  {
   "cell_type": "code",
   "execution_count": 149,
   "metadata": {},
   "outputs": [
    {
     "name": "stdout",
     "output_type": "stream",
     "text": [
      "0.9428571440920417\n"
     ]
    }
   ],
   "source": [
    "# /Pearson's correlation coefficient = covariance(X, Y) / (stdv(X) * stdv(Y))\n",
    "corr, _ = pearsonr(df['normalize15'],df['received_energy_kwh'])\n",
    "print(corr)"
   ]
  }
 ],
 "metadata": {
  "kernelspec": {
   "display_name": "Python 3",
   "language": "python",
   "name": "python3"
  },
  "language_info": {
   "codemirror_mode": {
    "name": "ipython",
    "version": 3
   },
   "file_extension": ".py",
   "mimetype": "text/x-python",
   "name": "python",
   "nbconvert_exporter": "python",
   "pygments_lexer": "ipython3",
   "version": "3.6.9"
  }
 },
 "nbformat": 4,
 "nbformat_minor": 2
}
