{
 "cells": [
  {
   "cell_type": "code",
   "execution_count": 2,
   "metadata": {},
   "outputs": [],
   "source": [
    "import matplotlib.pyplot as plt\n",
    "import pandas as pd\n",
    "import numpy as np\n",
    "from sklearn.tree import DecisionTreeClassifier"
   ]
  },
  {
   "cell_type": "code",
   "execution_count": 6,
   "metadata": {
    "scrolled": true
   },
   "outputs": [
    {
     "name": "stdout",
     "output_type": "stream",
     "text": [
      "         date_time_cst        date_time_utc  normalize15  zipcode  \\\n",
      "0        date_time_cst        date_time_utc  normalize15  zipcode   \n",
      "1  2017-01-01 07:00:00  2017-01-01 13:00:00       0.0006    75019   \n",
      "2  2017-01-01 07:00:00  2017-01-01 13:00:00       0.0107    75075   \n",
      "3  2017-01-01 07:00:00  2017-01-01 13:00:00       0.0165    75093   \n",
      "4  2017-01-01 07:00:00  2017-01-01 13:00:00       0.0321    76063   \n",
      "5  2017-01-01 07:00:00  2017-01-01 13:00:00        0.042    78717   \n",
      "6  2017-01-01 07:00:00  2017-01-01 13:00:00       0.1358    78664   \n",
      "7  2017-01-01 07:15:00  2017-01-01 13:15:00       0.0006    75019   \n",
      "8  2017-01-01 07:15:00  2017-01-01 13:15:00       0.0126    75075   \n",
      "9  2017-01-01 07:15:00  2017-01-01 13:15:00       0.0214    76063   \n",
      "\n",
      "           rdng_dtmgmt                  cdt  main_adr_zip_cd_5  \\\n",
      "0          rdng_dtmgmt                  cdt  main_adr_zip_cd_5   \n",
      "1  2017-01-01 13:00:00  2017-01-01 07:00:00              75019   \n",
      "2  2017-01-01 13:00:00  2017-01-01 07:00:00              75075   \n",
      "3  2017-01-01 13:00:00  2017-01-01 07:00:00              75093   \n",
      "4  2017-01-01 13:00:00  2017-01-01 07:00:00              76063   \n",
      "5  2017-01-01 13:00:00  2017-01-01 07:00:00              78717   \n",
      "6  2017-01-01 13:00:00  2017-01-01 07:00:00              78664   \n",
      "7  2017-01-01 13:15:00  2017-01-01 07:15:00              75019   \n",
      "8  2017-01-01 13:15:00  2017-01-01 07:15:00              75075   \n",
      "9  2017-01-01 13:15:00  2017-01-01 07:15:00              76063   \n",
      "\n",
      "   received_energy_kwh  delivered_energy_kwh  capacity  isDayLight  \n",
      "0  received_energy_kwh  delivered_energy_kwh  capacity  isDayLight  \n",
      "1                0.000                49.706       NaN         NaN  \n",
      "2                0.993                73.395    15.200         NaN  \n",
      "3                0.276               102.616    10.000         NaN  \n",
      "4                0.731                88.827    37.960         NaN  \n",
      "5                0.000                12.422       NaN         NaN  \n",
      "6                1.628                94.598    12.310         NaN  \n",
      "7                0.000                50.380       NaN         NaN  \n",
      "8                1.024                74.133    15.200         NaN  \n",
      "9                0.757                99.728    37.960         NaN  \n"
     ]
    }
   ],
   "source": [
    "df = pd.read_table('/home/shraddha/Downloads/output20200129.txt', sep='\\t',\n",
    "                       names=('date_time_cst','date_time_utc','normalize15','zipcode','rdng_dtmgmt','cdt','main_adr_zip_cd_5','received_energy_kwh',\n",
    "                              'delivered_energy_kwh','capacity','isDayLight'))\n",
    "df = pd.DataFrame(df)\n",
    "print(df.head(10))"
   ]
  },
  {
   "cell_type": "code",
   "execution_count": 7,
   "metadata": {
    "scrolled": true
   },
   "outputs": [
    {
     "name": "stdout",
     "output_type": "stream",
     "text": [
      "              date_time_cst        date_time_utc normalize15 zipcode  \\\n",
      "47979   2017-03-01 06:30:00  2017-03-01 12:30:00      0.0007   76182   \n",
      "47980   2017-03-01 06:30:00  2017-03-01 12:30:00      0.0055   75025   \n",
      "47981   2017-03-01 06:30:00  2017-03-01 12:30:00      0.0101   78660   \n",
      "47982   2017-03-01 06:30:00  2017-03-01 12:30:00      0.0587   76063   \n",
      "47983   2017-03-01 06:30:00  2017-03-01 12:30:00       0.062   75093   \n",
      "...                     ...                  ...         ...     ...   \n",
      "105713  2017-04-30 22:30:00  2017-05-01 04:30:00      0.3834   78681   \n",
      "105714  2017-04-30 22:45:00  2017-05-01 04:45:00      0.3834   78681   \n",
      "105715  2017-04-30 23:00:00  2017-05-01 05:00:00      0.3834   78681   \n",
      "105716  2017-04-30 23:15:00  2017-05-01 05:15:00      0.3834   78681   \n",
      "105717  2017-04-30 23:30:00  2017-05-01 05:30:00      0.3834   78681   \n",
      "\n",
      "                rdng_dtmgmt                  cdt main_adr_zip_cd_5  \\\n",
      "47979   2017-03-01 12:30:00  2017-03-01 06:30:00             76182   \n",
      "47980   2017-03-01 12:30:00  2017-03-01 06:30:00             75025   \n",
      "47981   2017-03-01 12:30:00  2017-03-01 06:30:00             78660   \n",
      "47982   2017-03-01 12:30:00  2017-03-01 06:30:00             76063   \n",
      "47983   2017-03-01 12:30:00  2017-03-01 06:30:00             75093   \n",
      "...                     ...                  ...               ...   \n",
      "105713  2017-05-01 03:30:00  2017-04-30 22:30:00             78681   \n",
      "105714  2017-05-01 03:45:00  2017-04-30 22:45:00             78681   \n",
      "105715  2017-05-01 04:00:00  2017-04-30 23:00:00             78681   \n",
      "105716  2017-05-01 04:15:00  2017-04-30 23:15:00             78681   \n",
      "105717  2017-05-01 04:30:00  2017-04-30 23:30:00             78681   \n",
      "\n",
      "       received_energy_kwh delivered_energy_kwh capacity isDayLight  \n",
      "47979                0.000               45.128      NaN        NaN  \n",
      "47980                5.289               41.130   21.400        NaN  \n",
      "47981                0.859              262.125   21.280        NaN  \n",
      "47982                3.704               81.747   37.960        NaN  \n",
      "47983                0.611              109.510   10.000        NaN  \n",
      "...                    ...                  ...      ...        ...  \n",
      "105713                   0               118.18      9.5        NaN  \n",
      "105714                   0              117.224      9.5        NaN  \n",
      "105715                   0              112.661      9.5        NaN  \n",
      "105716                   0              110.134      9.5        NaN  \n",
      "105717                   0              102.752      9.5        NaN  \n",
      "\n",
      "[57739 rows x 11 columns]\n"
     ]
    }
   ],
   "source": [
    "df = df[(df['cdt'] >= '2017-03-01 00:00') & (df['cdt']<= '2017-04-30 23:45') & (df['cdt']<= '2018-03-01 00:00') & \n",
    "   (df['cdt'] <= '2018-04-30 23:45')]\n",
    "\n",
    "df = pd.DataFrame(df)\n",
    "print(df)"
   ]
  },
  {
   "cell_type": "code",
   "execution_count": 8,
   "metadata": {
    "scrolled": true
   },
   "outputs": [
    {
     "name": "stdout",
     "output_type": "stream",
     "text": [
      "       Month normalize15 zipcode received_energy_kwh\n",
      "47980      3      0.0055   75025               5.289\n",
      "47981      3      0.0101   78660               0.859\n",
      "47982      3      0.0587   76063               3.704\n",
      "47983      3       0.062   75093               0.611\n",
      "47984      3      0.0776   78717               0.000\n",
      "47985      3      0.1269   76060               0.000\n",
      "47986      3      0.3737   76087               0.000\n",
      "47987      3      0.0007   76182               0.000\n",
      "47988      3      0.0055   75025               5.607\n",
      "47989      3      0.0101   78660               0.884\n"
     ]
    }
   ],
   "source": [
    "# df = pd.DataFrame(df[['cdt', 'normalize15' , 'zipcode' ,'received_energy_kwh', 'isDayLight']])\n",
    "df['cdt'] = pd.to_datetime(df['cdt'], errors='coerce')\n",
    "df['date'] = [d.date() for d in df['cdt']]\n",
    "df['date'] = pd.to_datetime(df['date'], errors='coerce')\n",
    "df['Month'] = df['date'].dt.month\n",
    "df = pd.DataFrame(df[['Month','normalize15','zipcode','received_energy_kwh']])\n",
    "# df['Month'] = df['date'].dt.month\n",
    "# df['month'] = df['date'].apply(lambda x : x.split('-'))\n",
    "print(df[1::].head(10))"
   ]
  },
  {
   "cell_type": "code",
   "execution_count": 9,
   "metadata": {},
   "outputs": [
    {
     "data": {
      "text/plain": [
       "Month                  0\n",
       "normalize15            0\n",
       "zipcode                0\n",
       "received_energy_kwh    0\n",
       "dtype: int64"
      ]
     },
     "execution_count": 9,
     "metadata": {},
     "output_type": "execute_result"
    }
   ],
   "source": [
    "df[['Month','normalize15','zipcode' , 'received_energy_kwh']].isna().sum()"
   ]
  },
  {
   "cell_type": "code",
   "execution_count": 10,
   "metadata": {},
   "outputs": [
    {
     "name": "stdout",
     "output_type": "stream",
     "text": [
      "<class 'pandas.core.frame.DataFrame'>\n",
      "Int64Index: 57739 entries, 47979 to 105717\n",
      "Data columns (total 4 columns):\n",
      "Month                  57739 non-null int64\n",
      "normalize15            57739 non-null object\n",
      "zipcode                57739 non-null object\n",
      "received_energy_kwh    57739 non-null object\n",
      "dtypes: int64(1), object(3)\n",
      "memory usage: 2.2+ MB\n"
     ]
    }
   ],
   "source": [
    "df.info()"
   ]
  },
  {
   "cell_type": "code",
   "execution_count": 11,
   "metadata": {
    "scrolled": true
   },
   "outputs": [
    {
     "data": {
      "text/plain": [
       "78681    2623\n",
       "76063    2353\n",
       "76087    2322\n",
       "75025    2294\n",
       "76060    2286\n",
       "78717    2254\n",
       "78664    2225\n",
       "75093    2220\n",
       "78660    2218\n",
       "78633    2204\n",
       "78728    2187\n",
       "75075    2157\n",
       "76126    2156\n",
       "78621    2152\n",
       "75023    2139\n",
       "76108    2134\n",
       "76182    2133\n",
       "75019    2125\n",
       "76087    1039\n",
       "76060    1031\n",
       "75025    1023\n",
       "78681    1021\n",
       "76063    1017\n",
       "78717     996\n",
       "78728     984\n",
       "76182     973\n",
       "75093     972\n",
       "76126     959\n",
       "75075     954\n",
       "78621     946\n",
       "76108     943\n",
       "78633     943\n",
       "75023     941\n",
       "78660     940\n",
       "75019     938\n",
       "78664     937\n",
       "Name: zipcode, dtype: int64"
      ]
     },
     "execution_count": 11,
     "metadata": {},
     "output_type": "execute_result"
    }
   ],
   "source": [
    "df['zipcode'].value_counts(())"
   ]
  },
  {
   "cell_type": "code",
   "execution_count": 12,
   "metadata": {
    "scrolled": true
   },
   "outputs": [
    {
     "data": {
      "text/html": [
       "<div>\n",
       "<style scoped>\n",
       "    .dataframe tbody tr th:only-of-type {\n",
       "        vertical-align: middle;\n",
       "    }\n",
       "\n",
       "    .dataframe tbody tr th {\n",
       "        vertical-align: top;\n",
       "    }\n",
       "\n",
       "    .dataframe thead th {\n",
       "        text-align: right;\n",
       "    }\n",
       "</style>\n",
       "<table border=\"1\" class=\"dataframe\">\n",
       "  <thead>\n",
       "    <tr style=\"text-align: right;\">\n",
       "      <th></th>\n",
       "      <th>Month</th>\n",
       "      <th>normalize15</th>\n",
       "      <th>zipcode</th>\n",
       "      <th>received_energy_kwh</th>\n",
       "    </tr>\n",
       "  </thead>\n",
       "  <tbody>\n",
       "    <tr>\n",
       "      <th>47980</th>\n",
       "      <td>3</td>\n",
       "      <td>0.0055</td>\n",
       "      <td>75025</td>\n",
       "      <td>5.289</td>\n",
       "    </tr>\n",
       "    <tr>\n",
       "      <th>47981</th>\n",
       "      <td>3</td>\n",
       "      <td>0.0101</td>\n",
       "      <td>78660</td>\n",
       "      <td>0.859</td>\n",
       "    </tr>\n",
       "    <tr>\n",
       "      <th>47982</th>\n",
       "      <td>3</td>\n",
       "      <td>0.0587</td>\n",
       "      <td>76063</td>\n",
       "      <td>3.704</td>\n",
       "    </tr>\n",
       "    <tr>\n",
       "      <th>47983</th>\n",
       "      <td>3</td>\n",
       "      <td>0.062</td>\n",
       "      <td>75093</td>\n",
       "      <td>0.611</td>\n",
       "    </tr>\n",
       "    <tr>\n",
       "      <th>47984</th>\n",
       "      <td>3</td>\n",
       "      <td>0.0776</td>\n",
       "      <td>78717</td>\n",
       "      <td>0.000</td>\n",
       "    </tr>\n",
       "    <tr>\n",
       "      <th>...</th>\n",
       "      <td>...</td>\n",
       "      <td>...</td>\n",
       "      <td>...</td>\n",
       "      <td>...</td>\n",
       "    </tr>\n",
       "    <tr>\n",
       "      <th>105713</th>\n",
       "      <td>4</td>\n",
       "      <td>0.3834</td>\n",
       "      <td>78681</td>\n",
       "      <td>0</td>\n",
       "    </tr>\n",
       "    <tr>\n",
       "      <th>105714</th>\n",
       "      <td>4</td>\n",
       "      <td>0.3834</td>\n",
       "      <td>78681</td>\n",
       "      <td>0</td>\n",
       "    </tr>\n",
       "    <tr>\n",
       "      <th>105715</th>\n",
       "      <td>4</td>\n",
       "      <td>0.3834</td>\n",
       "      <td>78681</td>\n",
       "      <td>0</td>\n",
       "    </tr>\n",
       "    <tr>\n",
       "      <th>105716</th>\n",
       "      <td>4</td>\n",
       "      <td>0.3834</td>\n",
       "      <td>78681</td>\n",
       "      <td>0</td>\n",
       "    </tr>\n",
       "    <tr>\n",
       "      <th>105717</th>\n",
       "      <td>4</td>\n",
       "      <td>0.3834</td>\n",
       "      <td>78681</td>\n",
       "      <td>0</td>\n",
       "    </tr>\n",
       "  </tbody>\n",
       "</table>\n",
       "<p>57738 rows × 4 columns</p>\n",
       "</div>"
      ],
      "text/plain": [
       "        Month normalize15 zipcode received_energy_kwh\n",
       "47980       3      0.0055   75025               5.289\n",
       "47981       3      0.0101   78660               0.859\n",
       "47982       3      0.0587   76063               3.704\n",
       "47983       3       0.062   75093               0.611\n",
       "47984       3      0.0776   78717               0.000\n",
       "...       ...         ...     ...                 ...\n",
       "105713      4      0.3834   78681                   0\n",
       "105714      4      0.3834   78681                   0\n",
       "105715      4      0.3834   78681                   0\n",
       "105716      4      0.3834   78681                   0\n",
       "105717      4      0.3834   78681                   0\n",
       "\n",
       "[57738 rows x 4 columns]"
      ]
     },
     "execution_count": 12,
     "metadata": {},
     "output_type": "execute_result"
    }
   ],
   "source": [
    "df = df.drop(df.index[0])\n",
    "received_energy_produced = df[df['received_energy_kwh'].notnull()]\n",
    "received_energy_produced"
   ]
  },
  {
   "cell_type": "code",
   "execution_count": 13,
   "metadata": {},
   "outputs": [
    {
     "data": {
      "text/html": [
       "<div>\n",
       "<style scoped>\n",
       "    .dataframe tbody tr th:only-of-type {\n",
       "        vertical-align: middle;\n",
       "    }\n",
       "\n",
       "    .dataframe tbody tr th {\n",
       "        vertical-align: top;\n",
       "    }\n",
       "\n",
       "    .dataframe thead th {\n",
       "        text-align: right;\n",
       "    }\n",
       "</style>\n",
       "<table border=\"1\" class=\"dataframe\">\n",
       "  <thead>\n",
       "    <tr style=\"text-align: right;\">\n",
       "      <th></th>\n",
       "      <th>Month</th>\n",
       "      <th>normalize15</th>\n",
       "      <th>zipcode</th>\n",
       "      <th>received_energy_kwh</th>\n",
       "    </tr>\n",
       "  </thead>\n",
       "  <tbody>\n",
       "  </tbody>\n",
       "</table>\n",
       "</div>"
      ],
      "text/plain": [
       "Empty DataFrame\n",
       "Columns: [Month, normalize15, zipcode, received_energy_kwh]\n",
       "Index: []"
      ]
     },
     "execution_count": 13,
     "metadata": {},
     "output_type": "execute_result"
    }
   ],
   "source": [
    "df = df.drop(df.index[0])\n",
    "received_energy_null = df[df['received_energy_kwh'].isnull()]\n",
    "received_energy_null"
   ]
  },
  {
   "cell_type": "code",
   "execution_count": 14,
   "metadata": {},
   "outputs": [
    {
     "data": {
      "text/plain": [
       "(57737, 4)"
      ]
     },
     "execution_count": 14,
     "metadata": {},
     "output_type": "execute_result"
    }
   ],
   "source": [
    "df.fillna('0').shape"
   ]
  },
  {
   "cell_type": "code",
   "execution_count": 15,
   "metadata": {
    "scrolled": false
   },
   "outputs": [],
   "source": [
    "# /df = df.set_index(df['date'])\n",
    "# df.loc['2017-03-01':'2017-04-30']\n",
    "\n",
    "# df.loc(['2018-03-01':'2018-04-30'])"
   ]
  },
  {
   "cell_type": "code",
   "execution_count": 16,
   "metadata": {},
   "outputs": [],
   "source": [
    "# df = df.replace(np.nan, 0)\n",
    "# sd_1 ='2017-03-01'\n",
    "# ed_1 ='2017-04-30'\n",
    "# sd_2 = '2018-03-01'\n",
    "# ed_2 = '2018-04-30'\n",
    "\n",
    "# df = df[(df['date'] >= sd_1) & (df['date']<= ed_1) & (df['date']<= sd_2) & (df['date'] <= ed_2)]\n",
    "# print(df['date'])\n",
    "# # from datetime import time  , date , datetime\n",
    "# # df['cdt'] = df['cdt'].apply(lambda x : datetime.strptime(x, \"%Y"
   ]
  },
  {
   "cell_type": "code",
   "execution_count": 17,
   "metadata": {},
   "outputs": [],
   "source": [
    "# !pip install dateparser"
   ]
  },
  {
   "cell_type": "code",
   "execution_count": null,
   "metadata": {},
   "outputs": [],
   "source": [
    "\n"
   ]
  },
  {
   "cell_type": "code",
   "execution_count": null,
   "metadata": {},
   "outputs": [],
   "source": []
  },
  {
   "cell_type": "code",
   "execution_count": 18,
   "metadata": {},
   "outputs": [],
   "source": [
    "# pip3 install -U scikit-learn\n",
    "# from sklearn.model_selection import train_test_split"
   ]
  },
  {
   "cell_type": "code",
   "execution_count": 19,
   "metadata": {},
   "outputs": [],
   "source": [
    "from sklearn.model_selection import train_test_split"
   ]
  },
  {
   "cell_type": "code",
   "execution_count": 20,
   "metadata": {},
   "outputs": [],
   "source": [
    "from sklearn.linear_model import LinearRegression"
   ]
  },
  {
   "cell_type": "code",
   "execution_count": null,
   "metadata": {
    "scrolled": true
   },
   "outputs": [],
   "source": []
  },
  {
   "cell_type": "code",
   "execution_count": 21,
   "metadata": {},
   "outputs": [],
   "source": [
    "# import datetime as dt\n",
    "# df['date_time_cst'] = pd.to_datetime(df['date_time_cst'])\n",
    "# df['date_time_cst']=df['date_time_cst'].map(dt.datetime.toordinal)\n",
    "# df = df.round(df[['normalize15'  , 'receiived_energy_kwh']]  ,  5)\n",
    "# df.head(10)"
   ]
  },
  {
   "cell_type": "code",
   "execution_count": 22,
   "metadata": {},
   "outputs": [],
   "source": [
    "# df.dropna(how=all)"
   ]
  },
  {
   "cell_type": "code",
   "execution_count": 23,
   "metadata": {},
   "outputs": [],
   "source": [
    "# x_train , x_test , y_train , y_test = train_test_split(df,df['received_energy_kwh'], test_size = 1/3)\n",
    "# print('*********8')\n",
    "# x_test.fillna(x_train.mean(), inplace=True)\n",
    "# print('@@@@@@@@@@@@@@@@@@@@@')\n",
    "# lr = LinearRegression()\n",
    "\n",
    "# print('@@@%%%%%%%%%%%%%%')\n",
    "# df  = df.reset_index(drop =True)\n",
    "\n",
    "# lr.fit(x_train, y_train)\n",
    "# print('@@@@@@')\n"
   ]
  },
  {
   "cell_type": "code",
   "execution_count": 24,
   "metadata": {},
   "outputs": [],
   "source": [
    "\n",
    "# df['cdt'].astype('float')\n",
    "# /print(df['cdt'])\n",
    "\n",
    "# import datetime as dt\n",
    "# df['date_time_cst'] = pd.to_datetime(df['date_time_cst'])\n",
    "# df['date_time_cst']=df['date_time_cst'].map(dt.datetime.toordinal)\n",
    "# lin_reg_mod.fit(X_train, y_train)\n",
    "# print('%%%%%')"
   ]
  },
  {
   "cell_type": "code",
   "execution_count": 25,
   "metadata": {},
   "outputs": [
    {
     "name": "stdout",
     "output_type": "stream",
     "text": [
      "        Month normalize15 zipcode received_energy_kwh\n",
      "88265       4      0.3556   78664              19.912\n",
      "56838       3      0.0244   76063               1.526\n",
      "100978      4      0.1356   75025               5.161\n",
      "81944       4      0.4067   75023              39.964\n",
      "59948       3      0.6802   75019             102.889\n",
      "...       ...         ...     ...                 ...\n",
      "70213       3      0.6332   75025              62.141\n",
      "61941       3      0.4239   76108              43.353\n",
      "49627       3      0.2387   78717               6.175\n",
      "76123       4      0.0009   76108                   0\n",
      "61274       3      0.0015   76126               0.000\n",
      "\n",
      "[53695 rows x 4 columns]\n",
      "        Month normalize15 zipcode received_energy_kwh\n",
      "89813       4       0.527   76063              63.734\n",
      "98816       4      0.6612   76060              17.112\n",
      "59227       3      0.5786   75075              76.424\n",
      "92632       4      0.1011   76060              10.391\n",
      "87501       4      0.0121   78664               1.243\n",
      "...       ...         ...     ...                 ...\n",
      "100083      4      0.7552   76108             117.223\n",
      "55502       3      0.4214   76126              16.244\n",
      "66838       3      0.0313   75023               1.213\n",
      "64028       3      0.0128   76182               0.427\n",
      "63867       3      0.0701   76108               2.517\n",
      "\n",
      "[4042 rows x 4 columns]\n"
     ]
    }
   ],
   "source": [
    "df = df.replace(np.nan, 0)\n",
    "train , test = train_test_split(df,test_size = 0.07)\n",
    "print(train)\n",
    "print(test)"
   ]
  },
  {
   "cell_type": "code",
   "execution_count": 26,
   "metadata": {
    "scrolled": true
   },
   "outputs": [
    {
     "name": "stdout",
     "output_type": "stream",
     "text": [
      "      Month normalize15 zipcode\n",
      "18647     3      0.2336   78681\n",
      "3750      3      0.0769   75075\n",
      "747       3      0.3936   78660\n",
      "57101     4      0.7061   76108\n",
      "2213      3      0.6252   78633\n",
      "...     ...         ...     ...\n",
      "22584     3      0.0411   78681\n",
      "501       3      0.6564   78660\n",
      "55934     4      0.2065   76087\n",
      "20828     3      0.0675   78717\n",
      "57726     4      0.3834   78681\n",
      "\n",
      "[38491 rows x 3 columns]       Month normalize15 zipcode\n",
      "6737      3      0.4849   75019\n",
      "12050     3      0.7862   78728\n",
      "17070     3      0.2101   75023\n",
      "47418     4      0.0001   75023\n",
      "27463     3      0.4613   75025\n",
      "...     ...         ...     ...\n",
      "10199     3       0.156   78681\n",
      "53452     4      0.0597   76126\n",
      "18117     3      0.4399   75025\n",
      "8272      3      0.2038   76126\n",
      "18466     3      0.7208   76126\n",
      "\n",
      "[19246 rows x 3 columns] 66628      16.219\n",
      "51731       1.590\n",
      "48728      67.836\n",
      "105082    135.205\n",
      "50194       0.000\n",
      "           ...   \n",
      "70565       0.491\n",
      "48482     143.662\n",
      "103915      2.807\n",
      "68809       0.038\n",
      "105707          0\n",
      "Name: received_energy_kwh, Length: 38491, dtype: object 54718     76.380\n",
      "60031     30.924\n",
      "65051     20.445\n",
      "95399      0.925\n",
      "75444      70.23\n",
      "           ...  \n",
      "58180     10.859\n",
      "101433     1.245\n",
      "66098     52.572\n",
      "56253      3.645\n",
      "66447     24.902\n",
      "Name: received_energy_kwh, Length: 19246, dtype: object\n"
     ]
    }
   ],
   "source": [
    "X = pd.DataFrame(np.c_[df[['Month','normalize15','zipcode']]]  , columns=['Month','normalize15','zipcode'])\n",
    "y = df['received_energy_kwh']\n",
    "\n",
    "\n",
    "X_train , X_test , y_train , y_test = train_test_split(X , y, test_size = 1/3  , random_state = 9)\n",
    "\n",
    "\n",
    "print(X_train , X_test , y_train , y_test)\n",
    "\n"
   ]
  },
  {
   "cell_type": "code",
   "execution_count": 27,
   "metadata": {},
   "outputs": [
    {
     "name": "stdout",
     "output_type": "stream",
     "text": [
      "#######\n"
     ]
    }
   ],
   "source": [
    "lin_reg_mod = LinearRegression()\n",
    "print('#######')"
   ]
  },
  {
   "cell_type": "code",
   "execution_count": 28,
   "metadata": {
    "scrolled": true
   },
   "outputs": [
    {
     "name": "stdout",
     "output_type": "stream",
     "text": [
      "%%%%%\n"
     ]
    }
   ],
   "source": [
    "lin_reg_mod.fit(X_train, y_train)\n",
    "print('%%%%%')"
   ]
  },
  {
   "cell_type": "code",
   "execution_count": 29,
   "metadata": {},
   "outputs": [
    {
     "name": "stdout",
     "output_type": "stream",
     "text": [
      "[42.83262974 59.65099438 18.56223618 ... 38.84412515 15.09735574\n",
      " 60.73905872]\n"
     ]
    }
   ],
   "source": [
    "pred = lin_reg_mod.predict(X_test)\n",
    "print(pred)"
   ]
  },
  {
   "cell_type": "code",
   "execution_count": 30,
   "metadata": {},
   "outputs": [],
   "source": [
    "from sklearn.metrics import mean_squared_error, r2_score\n",
    "test_set_rmse = (np.sqrt(mean_squared_error(y_test, pred)))\n",
    "test_set_r2 = r2_score(y_test, pred)"
   ]
  },
  {
   "cell_type": "code",
   "execution_count": 31,
   "metadata": {},
   "outputs": [
    {
     "name": "stdout",
     "output_type": "stream",
     "text": [
      "29.1361434839516\n",
      "0.4348609333366136\n"
     ]
    }
   ],
   "source": [
    "print(test_set_rmse)\n",
    "print(test_set_r2)"
   ]
  },
  {
   "cell_type": "code",
   "execution_count": 32,
   "metadata": {},
   "outputs": [],
   "source": [
    "%%bash\n",
    "# pip install seaborn"
   ]
  },
  {
   "cell_type": "code",
   "execution_count": 33,
   "metadata": {},
   "outputs": [
    {
     "ename": "TypeError",
     "evalue": "10.274000000000001 is not a string",
     "output_type": "error",
     "traceback": [
      "\u001b[0;31m---------------------------------------------------------------------------\u001b[0m",
      "\u001b[0;31mTypeError\u001b[0m                                 Traceback (most recent call last)",
      "\u001b[0;32m<ipython-input-33-235815f9273f>\u001b[0m in \u001b[0;36m<module>\u001b[0;34m\u001b[0m\n\u001b[0;32m----> 1\u001b[0;31m \u001b[0mplt\u001b[0m\u001b[0;34m.\u001b[0m\u001b[0mscatter\u001b[0m\u001b[0;34m(\u001b[0m\u001b[0mX\u001b[0m\u001b[0;34m,\u001b[0m\u001b[0my\u001b[0m\u001b[0;34m)\u001b[0m\u001b[0;34m\u001b[0m\u001b[0;34m\u001b[0m\u001b[0m\n\u001b[0m\u001b[1;32m      2\u001b[0m \u001b[0mplt\u001b[0m\u001b[0;34m.\u001b[0m\u001b[0mplot\u001b[0m\u001b[0;34m(\u001b[0m\u001b[0mX\u001b[0m\u001b[0;34m,\u001b[0m \u001b[0mpred\u001b[0m \u001b[0;34m,\u001b[0m \u001b[0mcolor\u001b[0m \u001b[0;34m=\u001b[0m\u001b[0;34m'red'\u001b[0m\u001b[0;34m)\u001b[0m\u001b[0;34m\u001b[0m\u001b[0;34m\u001b[0m\u001b[0m\n\u001b[1;32m      3\u001b[0m \u001b[0mplt\u001b[0m\u001b[0;34m.\u001b[0m\u001b[0mshow\u001b[0m\u001b[0;34m(\u001b[0m\u001b[0;34m)\u001b[0m\u001b[0;34m\u001b[0m\u001b[0;34m\u001b[0m\u001b[0m\n",
      "\u001b[0;32m~/.local/lib/python3.6/site-packages/matplotlib/pyplot.py\u001b[0m in \u001b[0;36mscatter\u001b[0;34m(x, y, s, c, marker, cmap, norm, vmin, vmax, alpha, linewidths, verts, edgecolors, plotnonfinite, data, **kwargs)\u001b[0m\n\u001b[1;32m   2839\u001b[0m         \u001b[0mverts\u001b[0m\u001b[0;34m=\u001b[0m\u001b[0mverts\u001b[0m\u001b[0;34m,\u001b[0m \u001b[0medgecolors\u001b[0m\u001b[0;34m=\u001b[0m\u001b[0medgecolors\u001b[0m\u001b[0;34m,\u001b[0m\u001b[0;34m\u001b[0m\u001b[0;34m\u001b[0m\u001b[0m\n\u001b[1;32m   2840\u001b[0m         plotnonfinite=plotnonfinite, **({\"data\": data} if data is not\n\u001b[0;32m-> 2841\u001b[0;31m         None else {}), **kwargs)\n\u001b[0m\u001b[1;32m   2842\u001b[0m     \u001b[0msci\u001b[0m\u001b[0;34m(\u001b[0m\u001b[0m__ret\u001b[0m\u001b[0;34m)\u001b[0m\u001b[0;34m\u001b[0m\u001b[0;34m\u001b[0m\u001b[0m\n\u001b[1;32m   2843\u001b[0m     \u001b[0;32mreturn\u001b[0m \u001b[0m__ret\u001b[0m\u001b[0;34m\u001b[0m\u001b[0;34m\u001b[0m\u001b[0m\n",
      "\u001b[0;32m~/.local/lib/python3.6/site-packages/matplotlib/__init__.py\u001b[0m in \u001b[0;36minner\u001b[0;34m(ax, data, *args, **kwargs)\u001b[0m\n\u001b[1;32m   1597\u001b[0m     \u001b[0;32mdef\u001b[0m \u001b[0minner\u001b[0m\u001b[0;34m(\u001b[0m\u001b[0max\u001b[0m\u001b[0;34m,\u001b[0m \u001b[0;34m*\u001b[0m\u001b[0margs\u001b[0m\u001b[0;34m,\u001b[0m \u001b[0mdata\u001b[0m\u001b[0;34m=\u001b[0m\u001b[0;32mNone\u001b[0m\u001b[0;34m,\u001b[0m \u001b[0;34m**\u001b[0m\u001b[0mkwargs\u001b[0m\u001b[0;34m)\u001b[0m\u001b[0;34m:\u001b[0m\u001b[0;34m\u001b[0m\u001b[0;34m\u001b[0m\u001b[0m\n\u001b[1;32m   1598\u001b[0m         \u001b[0;32mif\u001b[0m \u001b[0mdata\u001b[0m \u001b[0;32mis\u001b[0m \u001b[0;32mNone\u001b[0m\u001b[0;34m:\u001b[0m\u001b[0;34m\u001b[0m\u001b[0;34m\u001b[0m\u001b[0m\n\u001b[0;32m-> 1599\u001b[0;31m             \u001b[0;32mreturn\u001b[0m \u001b[0mfunc\u001b[0m\u001b[0;34m(\u001b[0m\u001b[0max\u001b[0m\u001b[0;34m,\u001b[0m \u001b[0;34m*\u001b[0m\u001b[0mmap\u001b[0m\u001b[0;34m(\u001b[0m\u001b[0msanitize_sequence\u001b[0m\u001b[0;34m,\u001b[0m \u001b[0margs\u001b[0m\u001b[0;34m)\u001b[0m\u001b[0;34m,\u001b[0m \u001b[0;34m**\u001b[0m\u001b[0mkwargs\u001b[0m\u001b[0;34m)\u001b[0m\u001b[0;34m\u001b[0m\u001b[0;34m\u001b[0m\u001b[0m\n\u001b[0m\u001b[1;32m   1600\u001b[0m \u001b[0;34m\u001b[0m\u001b[0m\n\u001b[1;32m   1601\u001b[0m         \u001b[0mbound\u001b[0m \u001b[0;34m=\u001b[0m \u001b[0mnew_sig\u001b[0m\u001b[0;34m.\u001b[0m\u001b[0mbind\u001b[0m\u001b[0;34m(\u001b[0m\u001b[0max\u001b[0m\u001b[0;34m,\u001b[0m \u001b[0;34m*\u001b[0m\u001b[0margs\u001b[0m\u001b[0;34m,\u001b[0m \u001b[0;34m**\u001b[0m\u001b[0mkwargs\u001b[0m\u001b[0;34m)\u001b[0m\u001b[0;34m\u001b[0m\u001b[0;34m\u001b[0m\u001b[0m\n",
      "\u001b[0;32m~/.local/lib/python3.6/site-packages/matplotlib/axes/_axes.py\u001b[0m in \u001b[0;36mscatter\u001b[0;34m(self, x, y, s, c, marker, cmap, norm, vmin, vmax, alpha, linewidths, verts, edgecolors, plotnonfinite, **kwargs)\u001b[0m\n\u001b[1;32m   4431\u001b[0m         \u001b[0;31m# Process **kwargs to handle aliases, conflicts with explicit kwargs:\u001b[0m\u001b[0;34m\u001b[0m\u001b[0;34m\u001b[0m\u001b[0;34m\u001b[0m\u001b[0m\n\u001b[1;32m   4432\u001b[0m \u001b[0;34m\u001b[0m\u001b[0m\n\u001b[0;32m-> 4433\u001b[0;31m         \u001b[0mself\u001b[0m\u001b[0;34m.\u001b[0m\u001b[0m_process_unit_info\u001b[0m\u001b[0;34m(\u001b[0m\u001b[0mxdata\u001b[0m\u001b[0;34m=\u001b[0m\u001b[0mx\u001b[0m\u001b[0;34m,\u001b[0m \u001b[0mydata\u001b[0m\u001b[0;34m=\u001b[0m\u001b[0my\u001b[0m\u001b[0;34m,\u001b[0m \u001b[0mkwargs\u001b[0m\u001b[0;34m=\u001b[0m\u001b[0mkwargs\u001b[0m\u001b[0;34m)\u001b[0m\u001b[0;34m\u001b[0m\u001b[0;34m\u001b[0m\u001b[0m\n\u001b[0m\u001b[1;32m   4434\u001b[0m         \u001b[0mx\u001b[0m \u001b[0;34m=\u001b[0m \u001b[0mself\u001b[0m\u001b[0;34m.\u001b[0m\u001b[0mconvert_xunits\u001b[0m\u001b[0;34m(\u001b[0m\u001b[0mx\u001b[0m\u001b[0;34m)\u001b[0m\u001b[0;34m\u001b[0m\u001b[0;34m\u001b[0m\u001b[0m\n\u001b[1;32m   4435\u001b[0m         \u001b[0my\u001b[0m \u001b[0;34m=\u001b[0m \u001b[0mself\u001b[0m\u001b[0;34m.\u001b[0m\u001b[0mconvert_yunits\u001b[0m\u001b[0;34m(\u001b[0m\u001b[0my\u001b[0m\u001b[0;34m)\u001b[0m\u001b[0;34m\u001b[0m\u001b[0;34m\u001b[0m\u001b[0m\n",
      "\u001b[0;32m~/.local/lib/python3.6/site-packages/matplotlib/axes/_base.py\u001b[0m in \u001b[0;36m_process_unit_info\u001b[0;34m(self, xdata, ydata, kwargs)\u001b[0m\n\u001b[1;32m   2124\u001b[0m \u001b[0;34m\u001b[0m\u001b[0m\n\u001b[1;32m   2125\u001b[0m         \u001b[0mkwargs\u001b[0m \u001b[0;34m=\u001b[0m \u001b[0m_process_single_axis\u001b[0m\u001b[0;34m(\u001b[0m\u001b[0mxdata\u001b[0m\u001b[0;34m,\u001b[0m \u001b[0mself\u001b[0m\u001b[0;34m.\u001b[0m\u001b[0mxaxis\u001b[0m\u001b[0;34m,\u001b[0m \u001b[0;34m'xunits'\u001b[0m\u001b[0;34m,\u001b[0m \u001b[0mkwargs\u001b[0m\u001b[0;34m)\u001b[0m\u001b[0;34m\u001b[0m\u001b[0;34m\u001b[0m\u001b[0m\n\u001b[0;32m-> 2126\u001b[0;31m         \u001b[0mkwargs\u001b[0m \u001b[0;34m=\u001b[0m \u001b[0m_process_single_axis\u001b[0m\u001b[0;34m(\u001b[0m\u001b[0mydata\u001b[0m\u001b[0;34m,\u001b[0m \u001b[0mself\u001b[0m\u001b[0;34m.\u001b[0m\u001b[0myaxis\u001b[0m\u001b[0;34m,\u001b[0m \u001b[0;34m'yunits'\u001b[0m\u001b[0;34m,\u001b[0m \u001b[0mkwargs\u001b[0m\u001b[0;34m)\u001b[0m\u001b[0;34m\u001b[0m\u001b[0;34m\u001b[0m\u001b[0m\n\u001b[0m\u001b[1;32m   2127\u001b[0m         \u001b[0;32mreturn\u001b[0m \u001b[0mkwargs\u001b[0m\u001b[0;34m\u001b[0m\u001b[0;34m\u001b[0m\u001b[0m\n\u001b[1;32m   2128\u001b[0m \u001b[0;34m\u001b[0m\u001b[0m\n",
      "\u001b[0;32m~/.local/lib/python3.6/site-packages/matplotlib/axes/_base.py\u001b[0m in \u001b[0;36m_process_single_axis\u001b[0;34m(data, axis, unit_name, kwargs)\u001b[0m\n\u001b[1;32m   2106\u001b[0m                 \u001b[0;31m# We only need to update if there is nothing set yet.\u001b[0m\u001b[0;34m\u001b[0m\u001b[0;34m\u001b[0m\u001b[0;34m\u001b[0m\u001b[0m\n\u001b[1;32m   2107\u001b[0m                 \u001b[0;32mif\u001b[0m \u001b[0;32mnot\u001b[0m \u001b[0maxis\u001b[0m\u001b[0;34m.\u001b[0m\u001b[0mhave_units\u001b[0m\u001b[0;34m(\u001b[0m\u001b[0;34m)\u001b[0m\u001b[0;34m:\u001b[0m\u001b[0;34m\u001b[0m\u001b[0;34m\u001b[0m\u001b[0m\n\u001b[0;32m-> 2108\u001b[0;31m                     \u001b[0maxis\u001b[0m\u001b[0;34m.\u001b[0m\u001b[0mupdate_units\u001b[0m\u001b[0;34m(\u001b[0m\u001b[0mdata\u001b[0m\u001b[0;34m)\u001b[0m\u001b[0;34m\u001b[0m\u001b[0;34m\u001b[0m\u001b[0m\n\u001b[0m\u001b[1;32m   2109\u001b[0m \u001b[0;34m\u001b[0m\u001b[0m\n\u001b[1;32m   2110\u001b[0m             \u001b[0;31m# Check for units in the kwargs, and if present update axis\u001b[0m\u001b[0;34m\u001b[0m\u001b[0;34m\u001b[0m\u001b[0;34m\u001b[0m\u001b[0m\n",
      "\u001b[0;32m~/.local/lib/python3.6/site-packages/matplotlib/axis.py\u001b[0m in \u001b[0;36mupdate_units\u001b[0;34m(self, data)\u001b[0m\n\u001b[1;32m   1491\u001b[0m         \u001b[0mneednew\u001b[0m \u001b[0;34m=\u001b[0m \u001b[0mself\u001b[0m\u001b[0;34m.\u001b[0m\u001b[0mconverter\u001b[0m \u001b[0;34m!=\u001b[0m \u001b[0mconverter\u001b[0m\u001b[0;34m\u001b[0m\u001b[0;34m\u001b[0m\u001b[0m\n\u001b[1;32m   1492\u001b[0m         \u001b[0mself\u001b[0m\u001b[0;34m.\u001b[0m\u001b[0mconverter\u001b[0m \u001b[0;34m=\u001b[0m \u001b[0mconverter\u001b[0m\u001b[0;34m\u001b[0m\u001b[0;34m\u001b[0m\u001b[0m\n\u001b[0;32m-> 1493\u001b[0;31m         \u001b[0mdefault\u001b[0m \u001b[0;34m=\u001b[0m \u001b[0mself\u001b[0m\u001b[0;34m.\u001b[0m\u001b[0mconverter\u001b[0m\u001b[0;34m.\u001b[0m\u001b[0mdefault_units\u001b[0m\u001b[0;34m(\u001b[0m\u001b[0mdata\u001b[0m\u001b[0;34m,\u001b[0m \u001b[0mself\u001b[0m\u001b[0;34m)\u001b[0m\u001b[0;34m\u001b[0m\u001b[0;34m\u001b[0m\u001b[0m\n\u001b[0m\u001b[1;32m   1494\u001b[0m         \u001b[0;32mif\u001b[0m \u001b[0mdefault\u001b[0m \u001b[0;32mis\u001b[0m \u001b[0;32mnot\u001b[0m \u001b[0;32mNone\u001b[0m \u001b[0;32mand\u001b[0m \u001b[0mself\u001b[0m\u001b[0;34m.\u001b[0m\u001b[0munits\u001b[0m \u001b[0;32mis\u001b[0m \u001b[0;32mNone\u001b[0m\u001b[0;34m:\u001b[0m\u001b[0;34m\u001b[0m\u001b[0;34m\u001b[0m\u001b[0m\n\u001b[1;32m   1495\u001b[0m             \u001b[0mself\u001b[0m\u001b[0;34m.\u001b[0m\u001b[0mset_units\u001b[0m\u001b[0;34m(\u001b[0m\u001b[0mdefault\u001b[0m\u001b[0;34m)\u001b[0m\u001b[0;34m\u001b[0m\u001b[0;34m\u001b[0m\u001b[0m\n",
      "\u001b[0;32m~/.local/lib/python3.6/site-packages/matplotlib/category.py\u001b[0m in \u001b[0;36mdefault_units\u001b[0;34m(data, axis)\u001b[0m\n\u001b[1;32m    113\u001b[0m         \u001b[0;31m# default_units->axis_info->convert\u001b[0m\u001b[0;34m\u001b[0m\u001b[0;34m\u001b[0m\u001b[0;34m\u001b[0m\u001b[0m\n\u001b[1;32m    114\u001b[0m         \u001b[0;32mif\u001b[0m \u001b[0maxis\u001b[0m\u001b[0;34m.\u001b[0m\u001b[0munits\u001b[0m \u001b[0;32mis\u001b[0m \u001b[0;32mNone\u001b[0m\u001b[0;34m:\u001b[0m\u001b[0;34m\u001b[0m\u001b[0;34m\u001b[0m\u001b[0m\n\u001b[0;32m--> 115\u001b[0;31m             \u001b[0maxis\u001b[0m\u001b[0;34m.\u001b[0m\u001b[0mset_units\u001b[0m\u001b[0;34m(\u001b[0m\u001b[0mUnitData\u001b[0m\u001b[0;34m(\u001b[0m\u001b[0mdata\u001b[0m\u001b[0;34m)\u001b[0m\u001b[0;34m)\u001b[0m\u001b[0;34m\u001b[0m\u001b[0;34m\u001b[0m\u001b[0m\n\u001b[0m\u001b[1;32m    116\u001b[0m         \u001b[0;32melse\u001b[0m\u001b[0;34m:\u001b[0m\u001b[0;34m\u001b[0m\u001b[0;34m\u001b[0m\u001b[0m\n\u001b[1;32m    117\u001b[0m             \u001b[0maxis\u001b[0m\u001b[0;34m.\u001b[0m\u001b[0munits\u001b[0m\u001b[0;34m.\u001b[0m\u001b[0mupdate\u001b[0m\u001b[0;34m(\u001b[0m\u001b[0mdata\u001b[0m\u001b[0;34m)\u001b[0m\u001b[0;34m\u001b[0m\u001b[0;34m\u001b[0m\u001b[0m\n",
      "\u001b[0;32m~/.local/lib/python3.6/site-packages/matplotlib/category.py\u001b[0m in \u001b[0;36m__init__\u001b[0;34m(self, data)\u001b[0m\n\u001b[1;32m    179\u001b[0m         \u001b[0mself\u001b[0m\u001b[0;34m.\u001b[0m\u001b[0m_counter\u001b[0m \u001b[0;34m=\u001b[0m \u001b[0mitertools\u001b[0m\u001b[0;34m.\u001b[0m\u001b[0mcount\u001b[0m\u001b[0;34m(\u001b[0m\u001b[0;34m)\u001b[0m\u001b[0;34m\u001b[0m\u001b[0;34m\u001b[0m\u001b[0m\n\u001b[1;32m    180\u001b[0m         \u001b[0;32mif\u001b[0m \u001b[0mdata\u001b[0m \u001b[0;32mis\u001b[0m \u001b[0;32mnot\u001b[0m \u001b[0;32mNone\u001b[0m\u001b[0;34m:\u001b[0m\u001b[0;34m\u001b[0m\u001b[0;34m\u001b[0m\u001b[0m\n\u001b[0;32m--> 181\u001b[0;31m             \u001b[0mself\u001b[0m\u001b[0;34m.\u001b[0m\u001b[0mupdate\u001b[0m\u001b[0;34m(\u001b[0m\u001b[0mdata\u001b[0m\u001b[0;34m)\u001b[0m\u001b[0;34m\u001b[0m\u001b[0;34m\u001b[0m\u001b[0m\n\u001b[0m\u001b[1;32m    182\u001b[0m \u001b[0;34m\u001b[0m\u001b[0m\n\u001b[1;32m    183\u001b[0m     \u001b[0;34m@\u001b[0m\u001b[0mstaticmethod\u001b[0m\u001b[0;34m\u001b[0m\u001b[0;34m\u001b[0m\u001b[0m\n",
      "\u001b[0;32m~/.local/lib/python3.6/site-packages/matplotlib/category.py\u001b[0m in \u001b[0;36mupdate\u001b[0;34m(self, data)\u001b[0m\n\u001b[1;32m    216\u001b[0m             \u001b[0;31m# OrderedDict just iterates over unique values in data.\u001b[0m\u001b[0;34m\u001b[0m\u001b[0;34m\u001b[0m\u001b[0;34m\u001b[0m\u001b[0m\n\u001b[1;32m    217\u001b[0m             \u001b[0;32mif\u001b[0m \u001b[0;32mnot\u001b[0m \u001b[0misinstance\u001b[0m\u001b[0;34m(\u001b[0m\u001b[0mval\u001b[0m\u001b[0;34m,\u001b[0m \u001b[0;34m(\u001b[0m\u001b[0mstr\u001b[0m\u001b[0;34m,\u001b[0m \u001b[0mbytes\u001b[0m\u001b[0;34m)\u001b[0m\u001b[0;34m)\u001b[0m\u001b[0;34m:\u001b[0m\u001b[0;34m\u001b[0m\u001b[0;34m\u001b[0m\u001b[0m\n\u001b[0;32m--> 218\u001b[0;31m                 \u001b[0;32mraise\u001b[0m \u001b[0mTypeError\u001b[0m\u001b[0;34m(\u001b[0m\u001b[0;34m\"{val!r} is not a string\"\u001b[0m\u001b[0;34m.\u001b[0m\u001b[0mformat\u001b[0m\u001b[0;34m(\u001b[0m\u001b[0mval\u001b[0m\u001b[0;34m=\u001b[0m\u001b[0mval\u001b[0m\u001b[0;34m)\u001b[0m\u001b[0;34m)\u001b[0m\u001b[0;34m\u001b[0m\u001b[0;34m\u001b[0m\u001b[0m\n\u001b[0m\u001b[1;32m    219\u001b[0m             \u001b[0;32mif\u001b[0m \u001b[0mconvertible\u001b[0m\u001b[0;34m:\u001b[0m\u001b[0;34m\u001b[0m\u001b[0;34m\u001b[0m\u001b[0m\n\u001b[1;32m    220\u001b[0m                 \u001b[0;31m# this will only be called so long as convertible is True.\u001b[0m\u001b[0;34m\u001b[0m\u001b[0;34m\u001b[0m\u001b[0;34m\u001b[0m\u001b[0m\n",
      "\u001b[0;31mTypeError\u001b[0m: 10.274000000000001 is not a string"
     ]
    },
    {
     "data": {
      "image/png": "[encoded data removed]",
      "text/plain": [
       "<Figure size 432x288 with 1 Axes>"
      ]
     },
     "metadata": {
      "needs_background": "light"
     },
     "output_type": "display_data"
    }
   ],
   "source": [
    "plt.scatter(X,y)\n",
    "plt.plot(X, pred , color ='red')\n",
    "plt.show()\n"
   ]
  }
 ],
 "metadata": {
  "kernelspec": {
   "display_name": "Python 3",
   "language": "python",
   "name": "python3"
  },
  "language_info": {
   "codemirror_mode": {
    "name": "ipython",
    "version": 3
   },
   "file_extension": ".py",
   "mimetype": "text/x-python",
   "name": "python",
   "nbconvert_exporter": "python",
   "pygments_lexer": "ipython3",
   "version": "3.6.9"
  }
 },
 "nbformat": 4,
 "nbformat_minor": 2
}
