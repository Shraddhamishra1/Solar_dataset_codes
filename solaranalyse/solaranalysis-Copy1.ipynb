{
 "cells": [
  {
   "cell_type": "code",
   "execution_count": 1,
   "metadata": {},
   "outputs": [],
   "source": [
    "import matplotlib.pyplot as plt\n",
    "import pandas as pd\n",
    "import numpy as np"
   ]
  },
  {
   "cell_type": "code",
   "execution_count": 2,
   "metadata": {
    "scrolled": false
   },
   "outputs": [
    {
     "name": "stderr",
     "output_type": "stream",
     "text": [
      "/home/shraddha/.local/lib/python3.6/site-packages/IPython/core/interactiveshell.py:3051: DtypeWarning: Columns (2,3,4,5,6,7,8,9,10) have mixed types. Specify dtype option on import or set low_memory=False.\n",
      "  interactivity=interactivity, compiler=compiler, result=result)\n"
     ]
    },
    {
     "name": "stdout",
     "output_type": "stream",
     "text": [
      "         date_time_cst        date_time_utc  normalize15  zipcode  \\\n",
      "0        date_time_cst        date_time_utc  normalize15  zipcode   \n",
      "1  2017-01-01 07:00:00  2017-01-01 13:00:00       0.0006    75019   \n",
      "2  2017-01-01 07:00:00  2017-01-01 13:00:00       0.0107    75075   \n",
      "3  2017-01-01 07:00:00  2017-01-01 13:00:00       0.0165    75093   \n",
      "4  2017-01-01 07:00:00  2017-01-01 13:00:00       0.0321    76063   \n",
      "5  2017-01-01 07:00:00  2017-01-01 13:00:00        0.042    78717   \n",
      "6  2017-01-01 07:00:00  2017-01-01 13:00:00       0.1358    78664   \n",
      "7  2017-01-01 07:15:00  2017-01-01 13:15:00       0.0006    75019   \n",
      "8  2017-01-01 07:15:00  2017-01-01 13:15:00       0.0126    75075   \n",
      "9  2017-01-01 07:15:00  2017-01-01 13:15:00       0.0214    76063   \n",
      "\n",
      "           rdng_dtmgmt                  cdt  main_adr_zip_cd_5  \\\n",
      "0          rdng_dtmgmt                  cdt  main_adr_zip_cd_5   \n",
      "1  2017-01-01 13:00:00  2017-01-01 07:00:00              75019   \n",
      "2  2017-01-01 13:00:00  2017-01-01 07:00:00              75075   \n",
      "3  2017-01-01 13:00:00  2017-01-01 07:00:00              75093   \n",
      "4  2017-01-01 13:00:00  2017-01-01 07:00:00              76063   \n",
      "5  2017-01-01 13:00:00  2017-01-01 07:00:00              78717   \n",
      "6  2017-01-01 13:00:00  2017-01-01 07:00:00              78664   \n",
      "7  2017-01-01 13:15:00  2017-01-01 07:15:00              75019   \n",
      "8  2017-01-01 13:15:00  2017-01-01 07:15:00              75075   \n",
      "9  2017-01-01 13:15:00  2017-01-01 07:15:00              76063   \n",
      "\n",
      "   received_energy_kwh  delivered_energy_kwh  capacity  isDayLight  \n",
      "0  received_energy_kwh  delivered_energy_kwh  capacity  isDayLight  \n",
      "1                0.000                49.706       NaN         NaN  \n",
      "2                0.993                73.395    15.200         NaN  \n",
      "3                0.276               102.616    10.000         NaN  \n",
      "4                0.731                88.827    37.960         NaN  \n",
      "5                0.000                12.422       NaN         NaN  \n",
      "6                1.628                94.598    12.310         NaN  \n",
      "7                0.000                50.380       NaN         NaN  \n",
      "8                1.024                74.133    15.200         NaN  \n",
      "9                0.757                99.728    37.960         NaN  \n"
     ]
    }
   ],
   "source": [
    "df = pd.read_table('/home/shraddha/Downloads/output20200129.txt', sep='\\t',\n",
    "                       names=('date_time_cst','date_time_utc','normalize15','zipcode','rdng_dtmgmt','cdt','main_adr_zip_cd_5','received_energy_kwh',\n",
    "                              'delivered_energy_kwh','capacity','isDayLight'))\n",
    "df = pd.DataFrame(df)\n",
    "print(df.head(10))\n"
   ]
  },
  {
   "cell_type": "code",
   "execution_count": 3,
   "metadata": {},
   "outputs": [
    {
     "name": "stdout",
     "output_type": "stream",
     "text": [
      "                    cdt normalize15 zipcode received_energy_kwh isDayLight\n",
      "1   2017-01-01 07:00:00      0.0006   75019               0.000        NaN\n",
      "2   2017-01-01 07:00:00      0.0107   75075               0.993        NaN\n",
      "3   2017-01-01 07:00:00      0.0165   75093               0.276        NaN\n",
      "4   2017-01-01 07:00:00      0.0321   76063               0.731        NaN\n",
      "5   2017-01-01 07:00:00       0.042   78717               0.000        NaN\n",
      "6   2017-01-01 07:00:00      0.1358   78664               1.628        NaN\n",
      "7   2017-01-01 07:15:00      0.0006   75019               0.000        NaN\n",
      "8   2017-01-01 07:15:00      0.0126   75075               1.024        NaN\n",
      "9   2017-01-01 07:15:00      0.0214   76063               0.757        NaN\n",
      "10  2017-01-01 07:15:00      0.0223   75093               0.284        NaN\n"
     ]
    }
   ],
   "source": [
    "df = pd.DataFrame(df[['cdt' , 'normalize15' , 'zipcode' ,'received_energy_kwh', 'isDayLight']])\n",
    "print(df[1::].head(10))"
   ]
  },
  {
   "cell_type": "code",
   "execution_count": 4,
   "metadata": {
    "scrolled": true
   },
   "outputs": [
    {
     "data": {
      "text/plain": [
       "cdt                    358828\n",
       "normalize15                 0\n",
       "zipcode                     0\n",
       "received_energy_kwh    358828\n",
       "dtype: int64"
      ]
     },
     "execution_count": 4,
     "metadata": {},
     "output_type": "execute_result"
    }
   ],
   "source": [
    "df[['cdt','normalize15','zipcode' , 'received_energy_kwh']].isna().sum()"
   ]
  },
  {
   "cell_type": "code",
   "execution_count": 5,
   "metadata": {},
   "outputs": [
    {
     "data": {
      "text/html": [
       "<div>\n",
       "<style scoped>\n",
       "    .dataframe tbody tr th:only-of-type {\n",
       "        vertical-align: middle;\n",
       "    }\n",
       "\n",
       "    .dataframe tbody tr th {\n",
       "        vertical-align: top;\n",
       "    }\n",
       "\n",
       "    .dataframe thead th {\n",
       "        text-align: right;\n",
       "    }\n",
       "</style>\n",
       "<table border=\"1\" class=\"dataframe\">\n",
       "  <thead>\n",
       "    <tr style=\"text-align: right;\">\n",
       "      <th></th>\n",
       "      <th>cdt</th>\n",
       "      <th>normalize15</th>\n",
       "      <th>zipcode</th>\n",
       "      <th>received_energy_kwh</th>\n",
       "      <th>isDayLight</th>\n",
       "    </tr>\n",
       "  </thead>\n",
       "  <tbody>\n",
       "    <tr>\n",
       "      <th>13</th>\n",
       "      <td>2017-01-01 07:30:00</td>\n",
       "      <td>0.0006</td>\n",
       "      <td>75019</td>\n",
       "      <td>0.000</td>\n",
       "      <td>1</td>\n",
       "    </tr>\n",
       "    <tr>\n",
       "      <th>14</th>\n",
       "      <td>2017-01-01 07:30:00</td>\n",
       "      <td>0.0027</td>\n",
       "      <td>76063</td>\n",
       "      <td>0.777</td>\n",
       "      <td>1</td>\n",
       "    </tr>\n",
       "    <tr>\n",
       "      <th>15</th>\n",
       "      <td>2017-01-01 07:30:00</td>\n",
       "      <td>0.0033</td>\n",
       "      <td>76087</td>\n",
       "      <td>0.000</td>\n",
       "      <td>1</td>\n",
       "    </tr>\n",
       "    <tr>\n",
       "      <th>16</th>\n",
       "      <td>2017-01-01 07:30:00</td>\n",
       "      <td>0.0047</td>\n",
       "      <td>76060</td>\n",
       "      <td>0.000</td>\n",
       "      <td>1</td>\n",
       "    </tr>\n",
       "    <tr>\n",
       "      <th>17</th>\n",
       "      <td>2017-01-01 07:30:00</td>\n",
       "      <td>0.0126</td>\n",
       "      <td>75075</td>\n",
       "      <td>1.054</td>\n",
       "      <td>1</td>\n",
       "    </tr>\n",
       "    <tr>\n",
       "      <th>18</th>\n",
       "      <td>2017-01-01 07:30:00</td>\n",
       "      <td>0.0251</td>\n",
       "      <td>75093</td>\n",
       "      <td>0.291</td>\n",
       "      <td>1</td>\n",
       "    </tr>\n",
       "    <tr>\n",
       "      <th>19</th>\n",
       "      <td>2017-01-01 07:30:00</td>\n",
       "      <td>0.0281</td>\n",
       "      <td>78717</td>\n",
       "      <td>0.000</td>\n",
       "      <td>1</td>\n",
       "    </tr>\n",
       "    <tr>\n",
       "      <th>20</th>\n",
       "      <td>2017-01-01 07:30:00</td>\n",
       "      <td>0.0906</td>\n",
       "      <td>78664</td>\n",
       "      <td>1.774</td>\n",
       "      <td>1</td>\n",
       "    </tr>\n",
       "    <tr>\n",
       "      <th>21</th>\n",
       "      <td>2017-01-01 07:45:00</td>\n",
       "      <td>0.0001</td>\n",
       "      <td>76108</td>\n",
       "      <td>0.984</td>\n",
       "      <td>1</td>\n",
       "    </tr>\n",
       "    <tr>\n",
       "      <th>22</th>\n",
       "      <td>2017-01-01 07:45:00</td>\n",
       "      <td>0.0004</td>\n",
       "      <td>76182</td>\n",
       "      <td>1.270</td>\n",
       "      <td>1</td>\n",
       "    </tr>\n",
       "  </tbody>\n",
       "</table>\n",
       "</div>"
      ],
      "text/plain": [
       "                    cdt normalize15 zipcode received_energy_kwh isDayLight\n",
       "13  2017-01-01 07:30:00      0.0006   75019               0.000          1\n",
       "14  2017-01-01 07:30:00      0.0027   76063               0.777          1\n",
       "15  2017-01-01 07:30:00      0.0033   76087               0.000          1\n",
       "16  2017-01-01 07:30:00      0.0047   76060               0.000          1\n",
       "17  2017-01-01 07:30:00      0.0126   75075               1.054          1\n",
       "18  2017-01-01 07:30:00      0.0251   75093               0.291          1\n",
       "19  2017-01-01 07:30:00      0.0281   78717               0.000          1\n",
       "20  2017-01-01 07:30:00      0.0906   78664               1.774          1\n",
       "21  2017-01-01 07:45:00      0.0001   76108               0.984          1\n",
       "22  2017-01-01 07:45:00      0.0004   76182               1.270          1"
      ]
     },
     "execution_count": 5,
     "metadata": {},
     "output_type": "execute_result"
    }
   ],
   "source": [
    "df.shape\n",
    "df = df[df['isDayLight']=='1']\n",
    "df.head(10)"
   ]
  },
  {
   "cell_type": "code",
   "execution_count": 6,
   "metadata": {},
   "outputs": [
    {
     "name": "stdout",
     "output_type": "stream",
     "text": [
      "<class 'pandas.core.frame.DataFrame'>\n",
      "Int64Index: 61861 entries, 13 to 65535\n",
      "Data columns (total 5 columns):\n",
      "cdt                    61861 non-null object\n",
      "normalize15            61861 non-null object\n",
      "zipcode                61861 non-null object\n",
      "received_energy_kwh    61861 non-null object\n",
      "isDayLight             61861 non-null object\n",
      "dtypes: object(5)\n",
      "memory usage: 2.8+ MB\n"
     ]
    }
   ],
   "source": [
    "df.info()"
   ]
  },
  {
   "cell_type": "code",
   "execution_count": 7,
   "metadata": {
    "scrolled": true
   },
   "outputs": [
    {
     "data": {
      "text/plain": [
       "76087    3453\n",
       "76060    3452\n",
       "76063    3451\n",
       "78717    3446\n",
       "78681    3445\n",
       "75025    3445\n",
       "75075    3441\n",
       "78621    3436\n",
       "75093    3434\n",
       "78728    3433\n",
       "75019    3430\n",
       "76126    3429\n",
       "78664    3429\n",
       "78660    3429\n",
       "76108    3428\n",
       "76182    3427\n",
       "75023    3427\n",
       "78633    3426\n",
       "Name: zipcode, dtype: int64"
      ]
     },
     "execution_count": 7,
     "metadata": {},
     "output_type": "execute_result"
    }
   ],
   "source": [
    "df['zipcode'].value_counts(())"
   ]
  },
  {
   "cell_type": "code",
   "execution_count": 8,
   "metadata": {
    "scrolled": false
   },
   "outputs": [
    {
     "data": {
      "text/html": [
       "<div>\n",
       "<style scoped>\n",
       "    .dataframe tbody tr th:only-of-type {\n",
       "        vertical-align: middle;\n",
       "    }\n",
       "\n",
       "    .dataframe tbody tr th {\n",
       "        vertical-align: top;\n",
       "    }\n",
       "\n",
       "    .dataframe thead th {\n",
       "        text-align: right;\n",
       "    }\n",
       "</style>\n",
       "<table border=\"1\" class=\"dataframe\">\n",
       "  <thead>\n",
       "    <tr style=\"text-align: right;\">\n",
       "      <th></th>\n",
       "      <th>cdt</th>\n",
       "      <th>normalize15</th>\n",
       "      <th>zipcode</th>\n",
       "      <th>received_energy_kwh</th>\n",
       "      <th>isDayLight</th>\n",
       "    </tr>\n",
       "  </thead>\n",
       "  <tbody>\n",
       "    <tr>\n",
       "      <th>14</th>\n",
       "      <td>2017-01-01 07:30:00</td>\n",
       "      <td>0.0027</td>\n",
       "      <td>76063</td>\n",
       "      <td>0.777</td>\n",
       "      <td>1</td>\n",
       "    </tr>\n",
       "    <tr>\n",
       "      <th>15</th>\n",
       "      <td>2017-01-01 07:30:00</td>\n",
       "      <td>0.0033</td>\n",
       "      <td>76087</td>\n",
       "      <td>0.000</td>\n",
       "      <td>1</td>\n",
       "    </tr>\n",
       "    <tr>\n",
       "      <th>16</th>\n",
       "      <td>2017-01-01 07:30:00</td>\n",
       "      <td>0.0047</td>\n",
       "      <td>76060</td>\n",
       "      <td>0.000</td>\n",
       "      <td>1</td>\n",
       "    </tr>\n",
       "    <tr>\n",
       "      <th>17</th>\n",
       "      <td>2017-01-01 07:30:00</td>\n",
       "      <td>0.0126</td>\n",
       "      <td>75075</td>\n",
       "      <td>1.054</td>\n",
       "      <td>1</td>\n",
       "    </tr>\n",
       "    <tr>\n",
       "      <th>18</th>\n",
       "      <td>2017-01-01 07:30:00</td>\n",
       "      <td>0.0251</td>\n",
       "      <td>75093</td>\n",
       "      <td>0.291</td>\n",
       "      <td>1</td>\n",
       "    </tr>\n",
       "    <tr>\n",
       "      <th>...</th>\n",
       "      <td>...</td>\n",
       "      <td>...</td>\n",
       "      <td>...</td>\n",
       "      <td>...</td>\n",
       "      <td>...</td>\n",
       "    </tr>\n",
       "    <tr>\n",
       "      <th>65531</th>\n",
       "      <td>2017-03-20 16:00:00</td>\n",
       "      <td>0.6453</td>\n",
       "      <td>76108</td>\n",
       "      <td>69.834</td>\n",
       "      <td>1</td>\n",
       "    </tr>\n",
       "    <tr>\n",
       "      <th>65532</th>\n",
       "      <td>2017-03-20 16:00:00</td>\n",
       "      <td>0.6497</td>\n",
       "      <td>76182</td>\n",
       "      <td>45.234</td>\n",
       "      <td>1</td>\n",
       "    </tr>\n",
       "    <tr>\n",
       "      <th>65533</th>\n",
       "      <td>2017-03-20 16:00:00</td>\n",
       "      <td>0.6622</td>\n",
       "      <td>78621</td>\n",
       "      <td>9.406</td>\n",
       "      <td>1</td>\n",
       "    </tr>\n",
       "    <tr>\n",
       "      <th>65534</th>\n",
       "      <td>2017-03-20 16:00:00</td>\n",
       "      <td>0.6652</td>\n",
       "      <td>78633</td>\n",
       "      <td>0.000</td>\n",
       "      <td>1</td>\n",
       "    </tr>\n",
       "    <tr>\n",
       "      <th>65535</th>\n",
       "      <td>2017-03-20 16:00:00</td>\n",
       "      <td>0.675</td>\n",
       "      <td>76126</td>\n",
       "      <td>24.801</td>\n",
       "      <td>1</td>\n",
       "    </tr>\n",
       "  </tbody>\n",
       "</table>\n",
       "<p>61860 rows × 5 columns</p>\n",
       "</div>"
      ],
      "text/plain": [
       "                       cdt normalize15 zipcode received_energy_kwh isDayLight\n",
       "14     2017-01-01 07:30:00      0.0027   76063               0.777          1\n",
       "15     2017-01-01 07:30:00      0.0033   76087               0.000          1\n",
       "16     2017-01-01 07:30:00      0.0047   76060               0.000          1\n",
       "17     2017-01-01 07:30:00      0.0126   75075               1.054          1\n",
       "18     2017-01-01 07:30:00      0.0251   75093               0.291          1\n",
       "...                    ...         ...     ...                 ...        ...\n",
       "65531  2017-03-20 16:00:00      0.6453   76108              69.834          1\n",
       "65532  2017-03-20 16:00:00      0.6497   76182              45.234          1\n",
       "65533  2017-03-20 16:00:00      0.6622   78621               9.406          1\n",
       "65534  2017-03-20 16:00:00      0.6652   78633               0.000          1\n",
       "65535  2017-03-20 16:00:00       0.675   76126              24.801          1\n",
       "\n",
       "[61860 rows x 5 columns]"
      ]
     },
     "execution_count": 8,
     "metadata": {},
     "output_type": "execute_result"
    }
   ],
   "source": [
    "df = df.drop(df.index[0])\n",
    "received_energy_produced = df[df['received_energy_kwh'].notnull()]\n",
    "received_energy_produced"
   ]
  },
  {
   "cell_type": "code",
   "execution_count": 9,
   "metadata": {},
   "outputs": [
    {
     "data": {
      "text/html": [
       "<div>\n",
       "<style scoped>\n",
       "    .dataframe tbody tr th:only-of-type {\n",
       "        vertical-align: middle;\n",
       "    }\n",
       "\n",
       "    .dataframe tbody tr th {\n",
       "        vertical-align: top;\n",
       "    }\n",
       "\n",
       "    .dataframe thead th {\n",
       "        text-align: right;\n",
       "    }\n",
       "</style>\n",
       "<table border=\"1\" class=\"dataframe\">\n",
       "  <thead>\n",
       "    <tr style=\"text-align: right;\">\n",
       "      <th></th>\n",
       "      <th>cdt</th>\n",
       "      <th>normalize15</th>\n",
       "      <th>zipcode</th>\n",
       "      <th>received_energy_kwh</th>\n",
       "      <th>isDayLight</th>\n",
       "    </tr>\n",
       "  </thead>\n",
       "  <tbody>\n",
       "  </tbody>\n",
       "</table>\n",
       "</div>"
      ],
      "text/plain": [
       "Empty DataFrame\n",
       "Columns: [cdt, normalize15, zipcode, received_energy_kwh, isDayLight]\n",
       "Index: []"
      ]
     },
     "execution_count": 9,
     "metadata": {},
     "output_type": "execute_result"
    }
   ],
   "source": [
    "df = df.drop(df.index[0])\n",
    "received_energy_null = df[df['received_energy_kwh'].isnull()]\n",
    "received_energy_null"
   ]
  },
  {
   "cell_type": "code",
   "execution_count": 10,
   "metadata": {},
   "outputs": [
    {
     "data": {
      "text/plain": [
       "(61859, 5)"
      ]
     },
     "execution_count": 10,
     "metadata": {},
     "output_type": "execute_result"
    }
   ],
   "source": [
    "df.fillna('0').shape"
   ]
  },
  {
   "cell_type": "code",
   "execution_count": 11,
   "metadata": {
    "scrolled": false
   },
   "outputs": [],
   "source": [
    "new_df = df"
   ]
  },
  {
   "cell_type": "code",
   "execution_count": 12,
   "metadata": {},
   "outputs": [
    {
     "name": "stdout",
     "output_type": "stream",
     "text": [
      "47995    2017-03-01 07:00:00\n",
      "47996    2017-03-01 07:00:00\n",
      "47997    2017-03-01 07:00:00\n",
      "47998    2017-03-01 07:00:00\n",
      "47999    2017-03-01 07:00:00\n",
      "                ...         \n",
      "65531    2017-03-20 16:00:00\n",
      "65532    2017-03-20 16:00:00\n",
      "65533    2017-03-20 16:00:00\n",
      "65534    2017-03-20 16:00:00\n",
      "65535    2017-03-20 16:00:00\n",
      "Name: cdt, Length: 16681, dtype: object\n",
      "<class 'pandas.core.series.Series'>\n"
     ]
    }
   ],
   "source": [
    "# df = df.replace(np.nan, 0)\n",
    "df = df[(df['cdt'] >= '2017-03-01 00:00') & (df['cdt']<= '2017-04-30 23:45') & (df['cdt']<= '2018-03-01 00:00') & \n",
    "   (df['cdt'] <= '2018-04-30 23:45')]\n",
    "\n",
    "# /from datetime import time  , date , datetime\n",
    "# df['cdt'] = df['cdt'].apply(lambda x : datetime.strptime(x, \"%Y-%m-%d %H:%M:%S\"))\n",
    "print(df['cdt'])\n",
    "\n",
    "print(type(df['cdt']))"
   ]
  },
  {
   "cell_type": "code",
   "execution_count": 13,
   "metadata": {},
   "outputs": [],
   "source": [
    "# !pip install dateparser"
   ]
  },
  {
   "cell_type": "code",
   "execution_count": null,
   "metadata": {},
   "outputs": [],
   "source": [
    "\n"
   ]
  },
  {
   "cell_type": "code",
   "execution_count": null,
   "metadata": {},
   "outputs": [],
   "source": []
  },
  {
   "cell_type": "code",
   "execution_count": 14,
   "metadata": {},
   "outputs": [],
   "source": [
    "# pip3 install -U scikit-learn\n",
    "# from sklearn.model_selection import train_test_split"
   ]
  },
  {
   "cell_type": "code",
   "execution_count": 15,
   "metadata": {},
   "outputs": [],
   "source": [
    "from sklearn.model_selection import train_test_split"
   ]
  },
  {
   "cell_type": "code",
   "execution_count": 16,
   "metadata": {},
   "outputs": [],
   "source": [
    "from sklearn.linear_model import LinearRegression"
   ]
  },
  {
   "cell_type": "code",
   "execution_count": 17,
   "metadata": {
    "scrolled": true
   },
   "outputs": [
    {
     "name": "stdout",
     "output_type": "stream",
     "text": [
      "                       cdt normalize15 zipcode received_energy_kwh isDayLight\n",
      "57469  2017-03-11 16:15:00      0.0645   75023               2.040          1\n",
      "58043  2017-03-12 13:00:00      0.1688   78660              13.915          1\n",
      "51395  2017-03-04 17:30:00      0.0115   78660               0.008          1\n",
      "63651  2017-03-18 15:45:00      0.3953   75023              60.772          1\n",
      "60698  2017-03-15 12:15:00      0.7412   78664              81.474          1\n",
      "...                    ...         ...     ...                 ...        ...\n",
      "48717  2017-03-01 17:00:00      0.2636   75075              34.148          1\n",
      "57178  2017-03-11 12:15:00        0.31   78621               4.084          1\n",
      "57568  2017-03-11 17:45:00      0.0056   78717               0.000          1\n",
      "49599  2017-03-02 17:00:00      0.2248   75019              27.041          1\n",
      "50325  2017-03-03 14:45:00      0.6036   76182              57.790          1\n",
      "\n",
      "[15513 rows x 5 columns]\n",
      "                       cdt normalize15 zipcode received_energy_kwh isDayLight\n",
      "62648  2017-03-17 14:15:00      0.6519   76087              15.771          1\n",
      "57584  2017-03-11 17:45:00      0.0513   76126               0.380          1\n",
      "54296  2017-03-08 09:00:00       0.459   75093              32.405          1\n",
      "48158  2017-03-01 09:15:00       0.253   78728              12.375          1\n",
      "48201  2017-03-01 09:45:00      0.5209   76063              55.077          1\n",
      "...                    ...         ...     ...                 ...        ...\n",
      "52437  2017-03-06 08:00:00      0.0576   76087               2.171          1\n",
      "56434  2017-03-10 14:15:00      0.3268   76126              11.444          1\n",
      "52801  2017-03-06 13:15:00      0.3333   75023              43.879          1\n",
      "63785  2017-03-18 17:30:00      0.4031   75023              32.681          1\n",
      "48710  2017-03-01 16:45:00      0.4439   78660              82.796          1\n",
      "\n",
      "[1168 rows x 5 columns]\n"
     ]
    }
   ],
   "source": [
    "df = df.replace(np.nan, 0)\n",
    "train , test = train_test_split(df,test_size = 0.07)\n",
    "print(train)\n",
    "print(test)"
   ]
  },
  {
   "cell_type": "code",
   "execution_count": 18,
   "metadata": {},
   "outputs": [],
   "source": [
    "# import datetime as dt\n",
    "# df['date_time_cst'] = pd.to_datetime(df['date_time_cst'])\n",
    "# df['date_time_cst']=df['date_time_cst'].map(dt.datetime.toordinal)\n",
    "# df = df.round(df[['normalize15'  , 'receiived_energy_kwh']]  ,  5)\n",
    "# df.head(10)"
   ]
  },
  {
   "cell_type": "code",
   "execution_count": 19,
   "metadata": {},
   "outputs": [],
   "source": [
    "# df.dropna(how=all)"
   ]
  },
  {
   "cell_type": "code",
   "execution_count": 20,
   "metadata": {},
   "outputs": [],
   "source": [
    "# x_train , x_test , y_train , y_test = train_test_split(df,df['received_energy_kwh'], test_size = 1/3)\n",
    "# print('*********8')\n",
    "# x_test.fillna(x_train.mean(), inplace=True)\n",
    "# print('@@@@@@@@@@@@@@@@@@@@@')\n",
    "# lr = LinearRegression()\n",
    "\n",
    "# print('@@@%%%%%%%%%%%%%%')\n",
    "# df  = df.reset_index(drop =True)\n",
    "\n",
    "# lr.fit(x_train, y_train)\n",
    "# print('@@@@@@')\n"
   ]
  },
  {
   "cell_type": "code",
   "execution_count": 21,
   "metadata": {},
   "outputs": [],
   "source": [
    "\n",
    "# df['cdt'].astype('float')\n",
    "# /print(df['cdt'])\n",
    "\n",
    "# import datetime as dt\n",
    "# df['date_time_cst'] = pd.to_datetime(df['date_time_cst'])\n",
    "# df['date_time_cst']=df['date_time_cst'].map(dt.datetime.toordinal)\n",
    "# lin_reg_mod.fit(X_train, y_train)\n",
    "# print('%%%%%')"
   ]
  },
  {
   "cell_type": "code",
   "execution_count": 22,
   "metadata": {},
   "outputs": [
    {
     "name": "stdout",
     "output_type": "stream",
     "text": [
      "                       cdt normalize15 zipcode isDayLight\n",
      "10587  2017-03-13 15:15:00      0.7686   75023          1\n",
      "14480  2017-03-18 09:30:00      0.0731   75019          1\n",
      "6641   2017-03-08 18:15:00      0.0217   76182          1\n",
      "11474  2017-03-14 15:30:00      0.7862   78728          1\n",
      "5303   2017-03-07 11:15:00      0.8245   75093          1\n",
      "...                    ...         ...     ...        ...\n",
      "4532   2017-03-06 12:15:00      0.8915   76060          1\n",
      "4673   2017-03-06 14:15:00      0.6069   78717          1\n",
      "5014   2017-03-07 07:15:00      0.0147   75023          1\n",
      "9979   2017-03-12 18:45:00      0.0183   78717          1\n",
      "501    2017-03-01 13:45:00       0.892   76060          1\n",
      "\n",
      "[11120 rows x 4 columns]                        cdt normalize15 zipcode isDayLight\n",
      "3508   2017-03-05 09:45:00      0.0978   78660          1\n",
      "11502  2017-03-14 16:00:00      0.6371   78681          1\n",
      "1105   2017-03-02 10:45:00       0.697   78717          1\n",
      "3056   2017-03-04 15:00:00      0.0478   76087          1\n",
      "13721  2017-03-17 11:00:00      0.0898   78681          1\n",
      "...                    ...         ...     ...        ...\n",
      "16275  2017-03-20 10:15:00      0.5477   78621          1\n",
      "14730  2017-03-18 13:00:00      0.4319   78660          1\n",
      "9624   2017-03-12 13:45:00      0.1793   78664          1\n",
      "12210  2017-03-15 13:45:00      0.8349   76108          1\n",
      "11231  2017-03-14 12:15:00      0.6953   75023          1\n",
      "\n",
      "[5561 rows x 4 columns] 59097    112.214\n",
      "63202      1.347\n",
      "54953      0.889\n",
      "60031     30.924\n",
      "53569     50.549\n",
      "          ...   \n",
      "52746      9.598\n",
      "52887     11.694\n",
      "53280      2.784\n",
      "58448      0.268\n",
      "48496     20.747\n",
      "Name: received_energy_kwh, Length: 11120, dtype: object 51687      3.762\n",
      "60059     81.963\n",
      "49156     14.056\n",
      "51210      0.013\n",
      "62398      3.099\n",
      "          ...   \n",
      "65130      4.840\n",
      "63452    133.585\n",
      "58093      7.272\n",
      "60807     97.683\n",
      "59788    106.354\n",
      "Name: received_energy_kwh, Length: 5561, dtype: object\n"
     ]
    }
   ],
   "source": [
    "X = pd.DataFrame(np.c_[df[['cdt' , 'normalize15' , 'zipcode','isDayLight']]]  , columns=['cdt','normalize15','zipcode','isDayLight'])\n",
    "y = df['received_energy_kwh']\n",
    "\n",
    "\n",
    "X_train , X_test , y_train , y_test = train_test_split(X , y, test_size = 1/3  , random_state = 9)\n",
    "\n",
    "\n",
    "print(X_train , X_test , y_train , y_test)\n",
    "\n"
   ]
  },
  {
   "cell_type": "code",
   "execution_count": 23,
   "metadata": {},
   "outputs": [
    {
     "name": "stdout",
     "output_type": "stream",
     "text": [
      "#######\n"
     ]
    }
   ],
   "source": [
    "lin_reg_mod = LinearRegression()\n",
    "print('#######')"
   ]
  },
  {
   "cell_type": "code",
   "execution_count": 24,
   "metadata": {
    "scrolled": true
   },
   "outputs": [
    {
     "ename": "ValueError",
     "evalue": "could not convert string to float: '2017-03-13 15:15:00'",
     "output_type": "error",
     "traceback": [
      "\u001b[0;31m---------------------------------------------------------------------------\u001b[0m",
      "\u001b[0;31mValueError\u001b[0m                                Traceback (most recent call last)",
      "\u001b[0;32m<ipython-input-24-aacb51595042>\u001b[0m in \u001b[0;36m<module>\u001b[0;34m\u001b[0m\n\u001b[0;32m----> 1\u001b[0;31m \u001b[0mlin_reg_mod\u001b[0m\u001b[0;34m.\u001b[0m\u001b[0mfit\u001b[0m\u001b[0;34m(\u001b[0m\u001b[0mX_train\u001b[0m\u001b[0;34m,\u001b[0m \u001b[0my_train\u001b[0m\u001b[0;34m)\u001b[0m\u001b[0;34m\u001b[0m\u001b[0;34m\u001b[0m\u001b[0m\n\u001b[0m\u001b[1;32m      2\u001b[0m \u001b[0mprint\u001b[0m\u001b[0;34m(\u001b[0m\u001b[0;34m'%%%%%'\u001b[0m\u001b[0;34m)\u001b[0m\u001b[0;34m\u001b[0m\u001b[0;34m\u001b[0m\u001b[0m\n",
      "\u001b[0;32m~/.local/lib/python3.6/site-packages/sklearn/linear_model/_base.py\u001b[0m in \u001b[0;36mfit\u001b[0;34m(self, X, y, sample_weight)\u001b[0m\n\u001b[1;32m    490\u001b[0m         \u001b[0mn_jobs_\u001b[0m \u001b[0;34m=\u001b[0m \u001b[0mself\u001b[0m\u001b[0;34m.\u001b[0m\u001b[0mn_jobs\u001b[0m\u001b[0;34m\u001b[0m\u001b[0;34m\u001b[0m\u001b[0m\n\u001b[1;32m    491\u001b[0m         X, y = check_X_y(X, y, accept_sparse=['csr', 'csc', 'coo'],\n\u001b[0;32m--> 492\u001b[0;31m                          y_numeric=True, multi_output=True)\n\u001b[0m\u001b[1;32m    493\u001b[0m \u001b[0;34m\u001b[0m\u001b[0m\n\u001b[1;32m    494\u001b[0m         \u001b[0;32mif\u001b[0m \u001b[0msample_weight\u001b[0m \u001b[0;32mis\u001b[0m \u001b[0;32mnot\u001b[0m \u001b[0;32mNone\u001b[0m\u001b[0;34m:\u001b[0m\u001b[0;34m\u001b[0m\u001b[0;34m\u001b[0m\u001b[0m\n",
      "\u001b[0;32m~/.local/lib/python3.6/site-packages/sklearn/utils/validation.py\u001b[0m in \u001b[0;36mcheck_X_y\u001b[0;34m(X, y, accept_sparse, accept_large_sparse, dtype, order, copy, force_all_finite, ensure_2d, allow_nd, multi_output, ensure_min_samples, ensure_min_features, y_numeric, warn_on_dtype, estimator)\u001b[0m\n\u001b[1;32m    753\u001b[0m                     \u001b[0mensure_min_features\u001b[0m\u001b[0;34m=\u001b[0m\u001b[0mensure_min_features\u001b[0m\u001b[0;34m,\u001b[0m\u001b[0;34m\u001b[0m\u001b[0;34m\u001b[0m\u001b[0m\n\u001b[1;32m    754\u001b[0m                     \u001b[0mwarn_on_dtype\u001b[0m\u001b[0;34m=\u001b[0m\u001b[0mwarn_on_dtype\u001b[0m\u001b[0;34m,\u001b[0m\u001b[0;34m\u001b[0m\u001b[0;34m\u001b[0m\u001b[0m\n\u001b[0;32m--> 755\u001b[0;31m                     estimator=estimator)\n\u001b[0m\u001b[1;32m    756\u001b[0m     \u001b[0;32mif\u001b[0m \u001b[0mmulti_output\u001b[0m\u001b[0;34m:\u001b[0m\u001b[0;34m\u001b[0m\u001b[0;34m\u001b[0m\u001b[0m\n\u001b[1;32m    757\u001b[0m         y = check_array(y, 'csr', force_all_finite=True, ensure_2d=False,\n",
      "\u001b[0;32m~/.local/lib/python3.6/site-packages/sklearn/utils/validation.py\u001b[0m in \u001b[0;36mcheck_array\u001b[0;34m(array, accept_sparse, accept_large_sparse, dtype, order, copy, force_all_finite, ensure_2d, allow_nd, ensure_min_samples, ensure_min_features, warn_on_dtype, estimator)\u001b[0m\n\u001b[1;32m    529\u001b[0m                     \u001b[0marray\u001b[0m \u001b[0;34m=\u001b[0m \u001b[0marray\u001b[0m\u001b[0;34m.\u001b[0m\u001b[0mastype\u001b[0m\u001b[0;34m(\u001b[0m\u001b[0mdtype\u001b[0m\u001b[0;34m,\u001b[0m \u001b[0mcasting\u001b[0m\u001b[0;34m=\u001b[0m\u001b[0;34m\"unsafe\"\u001b[0m\u001b[0;34m,\u001b[0m \u001b[0mcopy\u001b[0m\u001b[0;34m=\u001b[0m\u001b[0;32mFalse\u001b[0m\u001b[0;34m)\u001b[0m\u001b[0;34m\u001b[0m\u001b[0;34m\u001b[0m\u001b[0m\n\u001b[1;32m    530\u001b[0m                 \u001b[0;32melse\u001b[0m\u001b[0;34m:\u001b[0m\u001b[0;34m\u001b[0m\u001b[0;34m\u001b[0m\u001b[0m\n\u001b[0;32m--> 531\u001b[0;31m                     \u001b[0marray\u001b[0m \u001b[0;34m=\u001b[0m \u001b[0mnp\u001b[0m\u001b[0;34m.\u001b[0m\u001b[0masarray\u001b[0m\u001b[0;34m(\u001b[0m\u001b[0marray\u001b[0m\u001b[0;34m,\u001b[0m \u001b[0morder\u001b[0m\u001b[0;34m=\u001b[0m\u001b[0morder\u001b[0m\u001b[0;34m,\u001b[0m \u001b[0mdtype\u001b[0m\u001b[0;34m=\u001b[0m\u001b[0mdtype\u001b[0m\u001b[0;34m)\u001b[0m\u001b[0;34m\u001b[0m\u001b[0;34m\u001b[0m\u001b[0m\n\u001b[0m\u001b[1;32m    532\u001b[0m             \u001b[0;32mexcept\u001b[0m \u001b[0mComplexWarning\u001b[0m\u001b[0;34m:\u001b[0m\u001b[0;34m\u001b[0m\u001b[0;34m\u001b[0m\u001b[0m\n\u001b[1;32m    533\u001b[0m                 raise ValueError(\"Complex data not supported\\n\"\n",
      "\u001b[0;32m~/.local/lib/python3.6/site-packages/numpy/core/_asarray.py\u001b[0m in \u001b[0;36masarray\u001b[0;34m(a, dtype, order)\u001b[0m\n\u001b[1;32m     83\u001b[0m \u001b[0;34m\u001b[0m\u001b[0m\n\u001b[1;32m     84\u001b[0m     \"\"\"\n\u001b[0;32m---> 85\u001b[0;31m     \u001b[0;32mreturn\u001b[0m \u001b[0marray\u001b[0m\u001b[0;34m(\u001b[0m\u001b[0ma\u001b[0m\u001b[0;34m,\u001b[0m \u001b[0mdtype\u001b[0m\u001b[0;34m,\u001b[0m \u001b[0mcopy\u001b[0m\u001b[0;34m=\u001b[0m\u001b[0;32mFalse\u001b[0m\u001b[0;34m,\u001b[0m \u001b[0morder\u001b[0m\u001b[0;34m=\u001b[0m\u001b[0morder\u001b[0m\u001b[0;34m)\u001b[0m\u001b[0;34m\u001b[0m\u001b[0;34m\u001b[0m\u001b[0m\n\u001b[0m\u001b[1;32m     86\u001b[0m \u001b[0;34m\u001b[0m\u001b[0m\n\u001b[1;32m     87\u001b[0m \u001b[0;34m\u001b[0m\u001b[0m\n",
      "\u001b[0;31mValueError\u001b[0m: could not convert string to float: '2017-03-13 15:15:00'"
     ]
    }
   ],
   "source": [
    "lin_reg_mod.fit(X_train, y_train)\n",
    "print('%%%%%')"
   ]
  },
  {
   "cell_type": "code",
   "execution_count": null,
   "metadata": {},
   "outputs": [],
   "source": [
    "pred = lin_reg_mod.predict(X_test)\n",
    "print(pred)"
   ]
  },
  {
   "cell_type": "code",
   "execution_count": null,
   "metadata": {},
   "outputs": [],
   "source": [
    "from sklearn.metrics import mean_squared_error, r2_score\n",
    "test_set_rmse = (np.sqrt(mean_squared_error(y_test, pred)))\n",
    "test_set_r2 = r2_score(y_test, pred)"
   ]
  },
  {
   "cell_type": "code",
   "execution_count": null,
   "metadata": {},
   "outputs": [],
   "source": [
    "print(test_set_rmse)\n",
    "print(test_set_r2)"
   ]
  },
  {
   "cell_type": "code",
   "execution_count": null,
   "metadata": {},
   "outputs": [],
   "source": [
    "%%bash\n",
    "pip install seaborn"
   ]
  },
  {
   "cell_type": "code",
   "execution_count": null,
   "metadata": {},
   "outputs": [],
   "source": [
    "plt.scatter(X,y)\n",
    "plt.plot(X, Y_pred, color='red')\n",
    "plt.show()"
   ]
  }
 ],
 "metadata": {
  "kernelspec": {
   "display_name": "Python 3",
   "language": "python",
   "name": "python3"
  },
  "language_info": {
   "codemirror_mode": {
    "name": "ipython",
    "version": 3
   },
   "file_extension": ".py",
   "mimetype": "text/x-python",
   "name": "python",
   "nbconvert_exporter": "python",
   "pygments_lexer": "ipython3",
   "version": "3.6.9"
  }
 },
 "nbformat": 4,
 "nbformat_minor": 2
}
