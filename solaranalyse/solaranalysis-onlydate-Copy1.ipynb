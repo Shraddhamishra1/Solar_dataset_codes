{
 "cells": [
  {
   "cell_type": "code",
   "execution_count": 4,
   "metadata": {},
   "outputs": [],
   "source": [
    "import matplotlib.pyplot as plt\n",
    "import pandas as pd\n",
    "import numpy as np"
   ]
  },
  {
   "cell_type": "code",
   "execution_count": 33,
   "metadata": {
    "scrolled": false
   },
   "outputs": [
    {
     "name": "stdout",
     "output_type": "stream",
     "text": [
      "               date_time_cst        date_time_utc  normalize15  zipcode  \\\n",
      "0              date_time_cst        date_time_utc  normalize15  zipcode   \n",
      "1        2017-01-01 07:00:00  2017-01-01 13:00:00       0.0006    75019   \n",
      "2        2017-01-01 07:00:00  2017-01-01 13:00:00       0.0107    75075   \n",
      "3        2017-01-01 07:00:00  2017-01-01 13:00:00       0.0165    75093   \n",
      "4        2017-01-01 07:00:00  2017-01-01 13:00:00       0.0321    76063   \n",
      "...                      ...                  ...          ...      ...   \n",
      "1138336  2019-12-31 23:45:00  2020-01-01 05:45:00       0.0923    78681   \n",
      "1138337  2019-12-31 23:45:00  2020-01-01 05:45:00        0.365    78660   \n",
      "1138338  2020-01-01 00:00:00  2020-01-01 06:00:00       0.0435    76063   \n",
      "1138339  2020-01-01 00:00:00  2020-01-01 06:00:00       0.0923    78681   \n",
      "1138340  2020-01-01 00:00:00  2020-01-01 06:00:00        0.365    78660   \n",
      "\n",
      "                 rdng_dtmgmt                  cdt  main_adr_zip_cd_5  \\\n",
      "0                rdng_dtmgmt                  cdt  main_adr_zip_cd_5   \n",
      "1        2017-01-01 13:00:00  2017-01-01 07:00:00              75019   \n",
      "2        2017-01-01 13:00:00  2017-01-01 07:00:00              75075   \n",
      "3        2017-01-01 13:00:00  2017-01-01 07:00:00              75093   \n",
      "4        2017-01-01 13:00:00  2017-01-01 07:00:00              76063   \n",
      "...                      ...                  ...                ...   \n",
      "1138336                  NaN                  NaN                NaN   \n",
      "1138337                  NaN                  NaN                NaN   \n",
      "1138338                  NaN                  NaN                NaN   \n",
      "1138339                  NaN                  NaN                NaN   \n",
      "1138340                  NaN                  NaN                NaN   \n",
      "\n",
      "         received_energy_kwh  delivered_energy_kwh  capacity  isDayLight  \n",
      "0        received_energy_kwh  delivered_energy_kwh  capacity  isDayLight  \n",
      "1                      0.000                49.706       NaN         NaN  \n",
      "2                      0.993                73.395    15.200         NaN  \n",
      "3                      0.276               102.616    10.000         NaN  \n",
      "4                      0.731                88.827    37.960         NaN  \n",
      "...                      ...                   ...       ...         ...  \n",
      "1138336                  NaN                   NaN       NaN         NaN  \n",
      "1138337                  NaN                   NaN       NaN         NaN  \n",
      "1138338                  NaN                   NaN       NaN         NaN  \n",
      "1138339                  NaN                   NaN       NaN         NaN  \n",
      "1138340                  NaN                   NaN       NaN         NaN  \n",
      "\n",
      "[1138341 rows x 11 columns]\n"
     ]
    }
   ],
   "source": [
    "df = pd.read_table('/home/shraddha/Downloads/output20200129.txt', sep='\\t',\n",
    "                       names=('date_time_cst','date_time_utc','normalize15','zipcode','rdng_dtmgmt','cdt','main_adr_zip_cd_5','received_energy_kwh',\n",
    "                              'delivered_energy_kwh','capacity','isDayLight'),low_memory=False)\n",
    "df = pd.DataFrame(df)\n",
    "print(df)"
   ]
  },
  {
   "cell_type": "code",
   "execution_count": 35,
   "metadata": {
    "scrolled": true
   },
   "outputs": [
    {
     "name": "stdout",
     "output_type": "stream",
     "text": [
      "date_time_cst           object\n",
      "date_time_utc           object\n",
      "normalize15             object\n",
      "zipcode                 object\n",
      "rdng_dtmgmt             object\n",
      "cdt                     object\n",
      "main_adr_zip_cd_5       object\n",
      "received_energy_kwh     object\n",
      "delivered_energy_kwh    object\n",
      "capacity                object\n",
      "isDayLight              object\n",
      "dtype: object\n"
     ]
    }
   ],
   "source": [
    "df = df[(df['cdt'] >= '2017-03-01 00:00') & (df['cdt']<= '2017-04-30 23:45') | (df['cdt']<= '2018-03-01 00:00') & \n",
    "   (df['cdt'] <= '2018-04-30 23:45')]\n",
    "\n",
    "df = pd.DataFrame(df)\n",
    "print(df.dtypes)"
   ]
  },
  {
   "cell_type": "code",
   "execution_count": 7,
   "metadata": {},
   "outputs": [
    {
     "name": "stdout",
     "output_type": "stream",
     "text": [
      "            date normalize15 zipcode received_energy_kwh  Month\n",
      "47980 2017-03-01      0.0055   75025               5.289      3\n",
      "47981 2017-03-01      0.0101   78660               0.859      3\n",
      "47982 2017-03-01      0.0587   76063               3.704      3\n",
      "47983 2017-03-01       0.062   75093               0.611      3\n",
      "47984 2017-03-01      0.0776   78717               0.000      3\n",
      "47985 2017-03-01      0.1269   76060               0.000      3\n",
      "47986 2017-03-01      0.3737   76087               0.000      3\n",
      "47987 2017-03-01      0.0007   76182               0.000      3\n",
      "47988 2017-03-01      0.0055   75025               5.607      3\n",
      "47989 2017-03-01      0.0101   78660               0.884      3\n"
     ]
    }
   ],
   "source": [
    "# df = pd.DataFrame(df[['cdt', 'normalize15' , 'zipcode' ,'received_energy_kwh', 'isDayLight']])\n",
    "df['cdt'] = pd.to_datetime(df['cdt'], errors='coerce')\n",
    "df['date'] = [d.date() for d in df['cdt']]\n",
    "df['date'] = pd.to_datetime(df['date'], errors='coerce')\n",
    "df = pd.DataFrame(df[['date','normalize15','zipcode','received_energy_kwh']])\n",
    "df['Month'] = df['date'].dt.month\n",
    "# df['month'] = df['date'].apply(lambda x : x.split('-'))\n",
    "print(df[1::].head(10))"
   ]
  },
  {
   "cell_type": "code",
   "execution_count": 8,
   "metadata": {},
   "outputs": [
    {
     "data": {
      "text/plain": [
       "date                   0\n",
       "normalize15            0\n",
       "zipcode                0\n",
       "received_energy_kwh    0\n",
       "dtype: int64"
      ]
     },
     "execution_count": 8,
     "metadata": {},
     "output_type": "execute_result"
    }
   ],
   "source": [
    "df[['date','normalize15','zipcode' , 'received_energy_kwh']].isna().sum()"
   ]
  },
  {
   "cell_type": "code",
   "execution_count": 9,
   "metadata": {},
   "outputs": [
    {
     "name": "stdout",
     "output_type": "stream",
     "text": [
      "<class 'pandas.core.frame.DataFrame'>\n",
      "Int64Index: 57739 entries, 47979 to 105717\n",
      "Data columns (total 5 columns):\n",
      "date                   57739 non-null datetime64[ns]\n",
      "normalize15            57739 non-null object\n",
      "zipcode                57739 non-null object\n",
      "received_energy_kwh    57739 non-null object\n",
      "Month                  57739 non-null int64\n",
      "dtypes: datetime64[ns](1), int64(1), object(3)\n",
      "memory usage: 2.6+ MB\n"
     ]
    }
   ],
   "source": [
    "df.info()"
   ]
  },
  {
   "cell_type": "code",
   "execution_count": 10,
   "metadata": {
    "scrolled": true
   },
   "outputs": [
    {
     "data": {
      "text/plain": [
       "78681    2623\n",
       "76063    2353\n",
       "76087    2322\n",
       "75025    2294\n",
       "76060    2286\n",
       "78717    2254\n",
       "78664    2225\n",
       "75093    2220\n",
       "78660    2218\n",
       "78633    2204\n",
       "78728    2187\n",
       "75075    2157\n",
       "76126    2156\n",
       "78621    2152\n",
       "75023    2139\n",
       "76108    2134\n",
       "76182    2133\n",
       "75019    2125\n",
       "76087    1039\n",
       "76060    1031\n",
       "75025    1023\n",
       "78681    1021\n",
       "76063    1017\n",
       "78717     996\n",
       "78728     984\n",
       "76182     973\n",
       "75093     972\n",
       "76126     959\n",
       "75075     954\n",
       "78621     946\n",
       "76108     943\n",
       "78633     943\n",
       "75023     941\n",
       "78660     940\n",
       "75019     938\n",
       "78664     937\n",
       "Name: zipcode, dtype: int64"
      ]
     },
     "execution_count": 10,
     "metadata": {},
     "output_type": "execute_result"
    }
   ],
   "source": [
    "df['zipcode'].value_counts(())"
   ]
  },
  {
   "cell_type": "code",
   "execution_count": 11,
   "metadata": {
    "scrolled": true
   },
   "outputs": [
    {
     "data": {
      "text/html": [
       "<div>\n",
       "<style scoped>\n",
       "    .dataframe tbody tr th:only-of-type {\n",
       "        vertical-align: middle;\n",
       "    }\n",
       "\n",
       "    .dataframe tbody tr th {\n",
       "        vertical-align: top;\n",
       "    }\n",
       "\n",
       "    .dataframe thead th {\n",
       "        text-align: right;\n",
       "    }\n",
       "</style>\n",
       "<table border=\"1\" class=\"dataframe\">\n",
       "  <thead>\n",
       "    <tr style=\"text-align: right;\">\n",
       "      <th></th>\n",
       "      <th>date</th>\n",
       "      <th>normalize15</th>\n",
       "      <th>zipcode</th>\n",
       "      <th>received_energy_kwh</th>\n",
       "      <th>Month</th>\n",
       "    </tr>\n",
       "  </thead>\n",
       "  <tbody>\n",
       "    <tr>\n",
       "      <th>47980</th>\n",
       "      <td>2017-03-01</td>\n",
       "      <td>0.0055</td>\n",
       "      <td>75025</td>\n",
       "      <td>5.289</td>\n",
       "      <td>3</td>\n",
       "    </tr>\n",
       "    <tr>\n",
       "      <th>47981</th>\n",
       "      <td>2017-03-01</td>\n",
       "      <td>0.0101</td>\n",
       "      <td>78660</td>\n",
       "      <td>0.859</td>\n",
       "      <td>3</td>\n",
       "    </tr>\n",
       "    <tr>\n",
       "      <th>47982</th>\n",
       "      <td>2017-03-01</td>\n",
       "      <td>0.0587</td>\n",
       "      <td>76063</td>\n",
       "      <td>3.704</td>\n",
       "      <td>3</td>\n",
       "    </tr>\n",
       "    <tr>\n",
       "      <th>47983</th>\n",
       "      <td>2017-03-01</td>\n",
       "      <td>0.062</td>\n",
       "      <td>75093</td>\n",
       "      <td>0.611</td>\n",
       "      <td>3</td>\n",
       "    </tr>\n",
       "    <tr>\n",
       "      <th>47984</th>\n",
       "      <td>2017-03-01</td>\n",
       "      <td>0.0776</td>\n",
       "      <td>78717</td>\n",
       "      <td>0.000</td>\n",
       "      <td>3</td>\n",
       "    </tr>\n",
       "    <tr>\n",
       "      <th>...</th>\n",
       "      <td>...</td>\n",
       "      <td>...</td>\n",
       "      <td>...</td>\n",
       "      <td>...</td>\n",
       "      <td>...</td>\n",
       "    </tr>\n",
       "    <tr>\n",
       "      <th>105713</th>\n",
       "      <td>2017-04-30</td>\n",
       "      <td>0.3834</td>\n",
       "      <td>78681</td>\n",
       "      <td>0</td>\n",
       "      <td>4</td>\n",
       "    </tr>\n",
       "    <tr>\n",
       "      <th>105714</th>\n",
       "      <td>2017-04-30</td>\n",
       "      <td>0.3834</td>\n",
       "      <td>78681</td>\n",
       "      <td>0</td>\n",
       "      <td>4</td>\n",
       "    </tr>\n",
       "    <tr>\n",
       "      <th>105715</th>\n",
       "      <td>2017-04-30</td>\n",
       "      <td>0.3834</td>\n",
       "      <td>78681</td>\n",
       "      <td>0</td>\n",
       "      <td>4</td>\n",
       "    </tr>\n",
       "    <tr>\n",
       "      <th>105716</th>\n",
       "      <td>2017-04-30</td>\n",
       "      <td>0.3834</td>\n",
       "      <td>78681</td>\n",
       "      <td>0</td>\n",
       "      <td>4</td>\n",
       "    </tr>\n",
       "    <tr>\n",
       "      <th>105717</th>\n",
       "      <td>2017-04-30</td>\n",
       "      <td>0.3834</td>\n",
       "      <td>78681</td>\n",
       "      <td>0</td>\n",
       "      <td>4</td>\n",
       "    </tr>\n",
       "  </tbody>\n",
       "</table>\n",
       "<p>57738 rows × 5 columns</p>\n",
       "</div>"
      ],
      "text/plain": [
       "             date normalize15 zipcode received_energy_kwh  Month\n",
       "47980  2017-03-01      0.0055   75025               5.289      3\n",
       "47981  2017-03-01      0.0101   78660               0.859      3\n",
       "47982  2017-03-01      0.0587   76063               3.704      3\n",
       "47983  2017-03-01       0.062   75093               0.611      3\n",
       "47984  2017-03-01      0.0776   78717               0.000      3\n",
       "...           ...         ...     ...                 ...    ...\n",
       "105713 2017-04-30      0.3834   78681                   0      4\n",
       "105714 2017-04-30      0.3834   78681                   0      4\n",
       "105715 2017-04-30      0.3834   78681                   0      4\n",
       "105716 2017-04-30      0.3834   78681                   0      4\n",
       "105717 2017-04-30      0.3834   78681                   0      4\n",
       "\n",
       "[57738 rows x 5 columns]"
      ]
     },
     "execution_count": 11,
     "metadata": {},
     "output_type": "execute_result"
    }
   ],
   "source": [
    "df = df.drop(df.index[0])\n",
    "received_energy_produced = df[df['received_energy_kwh'].notnull()]\n",
    "received_energy_produced"
   ]
  },
  {
   "cell_type": "code",
   "execution_count": 12,
   "metadata": {},
   "outputs": [
    {
     "data": {
      "text/html": [
       "<div>\n",
       "<style scoped>\n",
       "    .dataframe tbody tr th:only-of-type {\n",
       "        vertical-align: middle;\n",
       "    }\n",
       "\n",
       "    .dataframe tbody tr th {\n",
       "        vertical-align: top;\n",
       "    }\n",
       "\n",
       "    .dataframe thead th {\n",
       "        text-align: right;\n",
       "    }\n",
       "</style>\n",
       "<table border=\"1\" class=\"dataframe\">\n",
       "  <thead>\n",
       "    <tr style=\"text-align: right;\">\n",
       "      <th></th>\n",
       "      <th>date</th>\n",
       "      <th>normalize15</th>\n",
       "      <th>zipcode</th>\n",
       "      <th>received_energy_kwh</th>\n",
       "      <th>Month</th>\n",
       "    </tr>\n",
       "  </thead>\n",
       "  <tbody>\n",
       "  </tbody>\n",
       "</table>\n",
       "</div>"
      ],
      "text/plain": [
       "Empty DataFrame\n",
       "Columns: [date, normalize15, zipcode, received_energy_kwh, Month]\n",
       "Index: []"
      ]
     },
     "execution_count": 12,
     "metadata": {},
     "output_type": "execute_result"
    }
   ],
   "source": [
    "df = df.drop(df.index[0])\n",
    "received_energy_null = df[df['received_energy_kwh'].isnull()]\n",
    "received_energy_null"
   ]
  },
  {
   "cell_type": "code",
   "execution_count": 13,
   "metadata": {},
   "outputs": [
    {
     "data": {
      "text/plain": [
       "(57737, 5)"
      ]
     },
     "execution_count": 13,
     "metadata": {},
     "output_type": "execute_result"
    }
   ],
   "source": [
    "df.fillna('0').shape"
   ]
  },
  {
   "cell_type": "code",
   "execution_count": 14,
   "metadata": {
    "scrolled": false
   },
   "outputs": [],
   "source": [
    "# /df = df.set_index(df['date'])\n",
    "# df.loc['2017-03-01':'2017-04-30']\n",
    "\n",
    "# df.loc(['2018-03-01':'2018-04-30'])"
   ]
  },
  {
   "cell_type": "code",
   "execution_count": 15,
   "metadata": {},
   "outputs": [],
   "source": [
    "# df = df.replace(np.nan, 0)\n",
    "# sd_1 ='2017-03-01'\n",
    "# ed_1 ='2017-04-30'\n",
    "# sd_2 = '2018-03-01'\n",
    "# ed_2 = '2018-04-30'\n",
    "\n",
    "# df = df[(df['date'] >= sd_1) & (df['date']<= ed_1) & (df['date']<= sd_2) & (df['date'] <= ed_2)]\n",
    "# print(df['date'])\n",
    "# # from datetime import time  , date , datetime\n",
    "# # df['cdt'] = df['cdt'].apply(lambda x : datetime.strptime(x, \"%Y"
   ]
  },
  {
   "cell_type": "code",
   "execution_count": 16,
   "metadata": {},
   "outputs": [],
   "source": [
    "# !pip install dateparser"
   ]
  },
  {
   "cell_type": "code",
   "execution_count": 28,
   "metadata": {},
   "outputs": [
    {
     "ename": "NameError",
     "evalue": "name 'typeof' is not defined",
     "output_type": "error",
     "traceback": [
      "\u001b[0;31m---------------------------------------------------------------------------\u001b[0m",
      "\u001b[0;31mNameError\u001b[0m                                 Traceback (most recent call last)",
      "\u001b[0;32m<ipython-input-28-26a141006143>\u001b[0m in \u001b[0;36m<module>\u001b[0;34m\u001b[0m\n\u001b[0;32m----> 1\u001b[0;31m \u001b[0mtypeof\u001b[0m\u001b[0;34m(\u001b[0m\u001b[0mdf\u001b[0m\u001b[0;34m)\u001b[0m\u001b[0;34m\u001b[0m\u001b[0;34m\u001b[0m\u001b[0m\n\u001b[0m",
      "\u001b[0;31mNameError\u001b[0m: name 'typeof' is not defined"
     ]
    }
   ],
   "source": [
    "df['normali']"
   ]
  },
  {
   "cell_type": "code",
   "execution_count": null,
   "metadata": {},
   "outputs": [],
   "source": []
  },
  {
   "cell_type": "code",
   "execution_count": 17,
   "metadata": {},
   "outputs": [],
   "source": [
    "# pip3 install -U scikit-learn\n",
    "# from sklearn.model_selection import train_test_split"
   ]
  },
  {
   "cell_type": "code",
   "execution_count": 18,
   "metadata": {},
   "outputs": [],
   "source": [
    "from sklearn.model_selection import train_test_split"
   ]
  },
  {
   "cell_type": "code",
   "execution_count": 19,
   "metadata": {},
   "outputs": [],
   "source": [
    "from sklearn.linear_model import LinearRegression"
   ]
  },
  {
   "cell_type": "code",
   "execution_count": null,
   "metadata": {
    "scrolled": true
   },
   "outputs": [],
   "source": []
  },
  {
   "cell_type": "code",
   "execution_count": 20,
   "metadata": {},
   "outputs": [],
   "source": [
    "# import datetime as dt\n",
    "# df['date_time_cst'] = pd.to_datetime(df['date_time_cst'])\n",
    "# df['date_time_cst']=df['date_time_cst'].map(dt.datetime.toordinal)\n",
    "# df = df.round(df[['normalize15'  , 'receiived_energy_kwh']]  ,  5)\n",
    "# df.head(10)"
   ]
  },
  {
   "cell_type": "code",
   "execution_count": 21,
   "metadata": {},
   "outputs": [],
   "source": [
    "# df.dropna(how=all)"
   ]
  },
  {
   "cell_type": "code",
   "execution_count": 22,
   "metadata": {},
   "outputs": [],
   "source": [
    "# x_train , x_test , y_train , y_test = train_test_split(df,df['received_energy_kwh'], test_size = 1/3)\n",
    "# print('*********8')\n",
    "# x_test.fillna(x_train.mean(), inplace=True)\n",
    "# print('@@@@@@@@@@@@@@@@@@@@@')\n",
    "# lr = LinearRegression()\n",
    "\n",
    "# print('@@@%%%%%%%%%%%%%%')\n",
    "# df  = df.reset_index(drop =True)\n",
    "\n",
    "# lr.fit(x_train, y_train)\n",
    "# print('@@@@@@')\n"
   ]
  },
  {
   "cell_type": "code",
   "execution_count": 23,
   "metadata": {},
   "outputs": [],
   "source": [
    "\n",
    "# df['cdt'].astype('float')\n",
    "# /print(df['cdt'])\n",
    "\n",
    "# import datetime as dt\n",
    "# df['date_time_cst'] = pd.to_datetime(df['date_time_cst'])\n",
    "# df['date_time_cst']=df['date_time_cst'].map(dt.datetime.toordinal)\n",
    "# lin_reg_mod.fit(X_train, y_train)\n",
    "# print('%%%%%')"
   ]
  },
  {
   "cell_type": "code",
   "execution_count": 24,
   "metadata": {
    "scrolled": true
   },
   "outputs": [
    {
     "name": "stdout",
     "output_type": "stream",
     "text": [
      "            date normalize15 zipcode received_energy_kwh  Month\n",
      "60781 2017-03-15      0.6597   75025              76.899      3\n",
      "95710 2017-04-21       0.256   78717               9.624      4\n",
      "57229 2017-03-11      0.1473   78728               2.598      3\n",
      "56344 2017-03-10      0.1891   76087               2.912      3\n",
      "99094 2017-04-24      0.7741   78728              31.673      4\n",
      "...          ...         ...     ...                 ...    ...\n",
      "74126 2017-03-29      0.0779   78681               6.433      3\n",
      "99470 2017-04-24      0.3834   78681                   0      4\n",
      "86265 2017-04-11      0.7137   76087              13.592      4\n",
      "55540 2017-03-09      0.8605   76060              17.355      3\n",
      "50983 2017-03-04      0.0934   76087               0.185      3\n",
      "\n",
      "[53695 rows x 5 columns]\n",
      "             date normalize15 zipcode received_energy_kwh  Month\n",
      "49695  2017-03-02      0.0224   78621               0.030      3\n",
      "65311  2017-03-20      0.9528   76060              17.921      3\n",
      "69826  2017-03-25      0.6303   78717              13.469      3\n",
      "57026  2017-03-11      0.6055   75075              72.425      3\n",
      "101101 2017-04-26      0.9881   76060               8.793      4\n",
      "...           ...         ...     ...                 ...    ...\n",
      "50679  2017-03-04      0.0089   76063               0.169      3\n",
      "88378  2017-04-13      0.0394   78717               0.037      4\n",
      "62309  2017-03-17      0.0409   78681               0.485      3\n",
      "98132  2017-04-23      0.5828   78633               0.124      4\n",
      "84352  2017-04-09      0.7015   76087              12.256      4\n",
      "\n",
      "[4042 rows x 5 columns]\n"
     ]
    }
   ],
   "source": [
    "df = df.replace(np.nan, 0)\n",
    "train , test = train_test_split(df,test_size = 0.07)\n",
    "print(train)\n",
    "print(test)"
   ]
  },
  {
   "cell_type": "code",
   "execution_count": 25,
   "metadata": {
    "scrolled": true
   },
   "outputs": [
    {
     "name": "stdout",
     "output_type": "stream",
     "text": [
      "            date normalize15 zipcode\n",
      "18647 2017-03-21      0.2336   78681\n",
      "3750  2017-03-05      0.0769   75075\n",
      "747   2017-03-01      0.3936   78660\n",
      "57101 2017-04-30      0.7061   76108\n",
      "2213  2017-03-03      0.6252   78633\n",
      "...          ...         ...     ...\n",
      "22584 2017-03-26      0.0411   78681\n",
      "501   2017-03-01      0.6564   78660\n",
      "55934 2017-04-29      0.2065   76087\n",
      "20828 2017-03-24      0.0675   78717\n",
      "57726 2017-04-30      0.3834   78681\n",
      "\n",
      "[38491 rows x 3 columns]             date normalize15 zipcode\n",
      "6737  2017-03-08      0.4849   75019\n",
      "12050 2017-03-14      0.7862   78728\n",
      "17070 2017-03-20      0.2101   75023\n",
      "47418 2017-04-21      0.0001   75023\n",
      "27463 2017-03-31      0.4613   75025\n",
      "...          ...         ...     ...\n",
      "10199 2017-03-12       0.156   78681\n",
      "53452 2017-04-26      0.0597   76126\n",
      "18117 2017-03-21      0.4399   75025\n",
      "8272  2017-03-10      0.2038   76126\n",
      "18466 2017-03-21      0.7208   76126\n",
      "\n",
      "[19246 rows x 3 columns] 66628      16.219\n",
      "51731       1.590\n",
      "48728      67.836\n",
      "105082    135.205\n",
      "50194       0.000\n",
      "           ...   \n",
      "70565       0.491\n",
      "48482     143.662\n",
      "103915      2.807\n",
      "68809       0.038\n",
      "105707          0\n",
      "Name: received_energy_kwh, Length: 38491, dtype: object 54718     76.380\n",
      "60031     30.924\n",
      "65051     20.445\n",
      "95399      0.925\n",
      "75444      70.23\n",
      "           ...  \n",
      "58180     10.859\n",
      "101433     1.245\n",
      "66098     52.572\n",
      "56253      3.645\n",
      "66447     24.902\n",
      "Name: received_energy_kwh, Length: 19246, dtype: object\n"
     ]
    }
   ],
   "source": [
    "X = pd.DataFrame(np.c_[df[['date','normalize15','zipcode']]]  , columns=['date','normalize15','zipcode'])\n",
    "y = df['received_energy_kwh']\n",
    "\n",
    "\n",
    "X_train , X_test , y_train , y_test = train_test_split(X , y, test_size = 1/3  , random_state = 9)\n",
    "\n",
    "\n",
    "print(X_train , X_test , y_train , y_test)\n",
    "\n"
   ]
  },
  {
   "cell_type": "code",
   "execution_count": 27,
   "metadata": {},
   "outputs": [
    {
     "data": {
      "text/plain": [
       "<matplotlib.axes._subplots.AxesSubplot at 0x7fed2a765828>"
      ]
     },
     "execution_count": 27,
     "metadata": {},
     "output_type": "execute_result"
    },
    {
     "data": {
      "image/png": "[encoded data removed]",
      "text/plain": [
       "<Figure size 648x576 with 2 Axes>"
      ]
     },
     "metadata": {
      "needs_background": "light"
     },
     "output_type": "display_data"
    }
   ],
   "source": [
    "import seaborn as sns\n",
    "df1=[['']]\n",
    "corrmat = df.corr() \n",
    "  \n",
    "f, ax = plt.subplots(figsize =(9, 8)) \n",
    "sns.heatmap(corrmat, ax = ax, cmap =\"YlGnBu\", linewidths = 0.1) \n"
   ]
  },
  {
   "cell_type": "code",
   "execution_count": null,
   "metadata": {},
   "outputs": [],
   "source": [
    "lin_reg_mod = LinearRegression()\n",
    "print('#######')"
   ]
  },
  {
   "cell_type": "code",
   "execution_count": null,
   "metadata": {
    "scrolled": false
   },
   "outputs": [],
   "source": [
    "lin_reg_mod.fit(X_train, y_train)\n",
    "print('%%%%%')"
   ]
  },
  {
   "cell_type": "code",
   "execution_count": null,
   "metadata": {},
   "outputs": [],
   "source": [
    "pred = lin_reg_mod.predict(X_test)\n",
    "print(pred)"
   ]
  },
  {
   "cell_type": "code",
   "execution_count": null,
   "metadata": {},
   "outputs": [],
   "source": [
    "from sklearn.metrics import mean_squared_error, r2_score\n",
    "test_set_rmse = (np.sqrt(mean_squared_error(y_test, pred)))\n",
    "test_set_r2 = r2_score(y_test, pred)"
   ]
  },
  {
   "cell_type": "code",
   "execution_count": null,
   "metadata": {},
   "outputs": [],
   "source": [
    "print(test_set_rmse)\n",
    "print(test_set_r2)"
   ]
  },
  {
   "cell_type": "code",
   "execution_count": null,
   "metadata": {},
   "outputs": [],
   "source": [
    "%%bash\n",
    "# pip install seaborn"
   ]
  },
  {
   "cell_type": "code",
   "execution_count": null,
   "metadata": {},
   "outputs": [],
   "source": [
    "plt.scatter(X,y)\n",
    "plt.plot(X, pred , color ='red')\n",
    "plt.show()\n"
   ]
  }
 ],
 "metadata": {
  "kernelspec": {
   "display_name": "Python 3",
   "language": "python",
   "name": "python3"
  },
  "language_info": {
   "codemirror_mode": {
    "name": "ipython",
    "version": 3
   },
   "file_extension": ".py",
   "mimetype": "text/x-python",
   "name": "python",
   "nbconvert_exporter": "python",
   "pygments_lexer": "ipython3",
   "version": "3.6.9"
  }
 },
 "nbformat": 4,
 "nbformat_minor": 2
}
